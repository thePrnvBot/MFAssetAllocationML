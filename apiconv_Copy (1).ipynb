{
  "cells": [
    {
      "cell_type": "code",
      "execution_count": 1,
      "metadata": {
        "id": "ybfUXGCQ98d0"
      },
      "outputs": [],
      "source": [
        "import numpy as np\n",
        "import matplotlib.pyplot as plt\n",
        "import pandas as pd\n",
        "import seaborn as sns\n",
        "import requests\n",
        "from sklearn.model_selection import train_test_split\n",
        "from xgboost import XGBRegressor\n",
        "from sklearn.model_selection import train_test_split\n",
        "from keras.models import Sequential\n",
        "from keras.layers import LSTM, Dense, Dropout, Embedding, Concatenate, MultiHeadAttention\n",
        "from sklearn.preprocessing import StandardScaler,MinMaxScaler\n",
        "from sklearn.metrics import mean_absolute_error, mean_squared_error\n",
        "from sklearn.model_selection import GridSearchCV\n",
        "import numpy as np\n",
        "from sklearn.preprocessing import MinMaxScaler\n",
        "from sklearn.model_selection import TimeSeriesSplit\n",
        "from keras.optimizers import Adam\n",
        "from keras.callbacks import EarlyStopping\n",
        "from keras import Input\n",
        "from keras import Model"
      ]
    },
    {
      "cell_type": "code",
      "execution_count": 2,
      "metadata": {
        "id": "UYsXkD4t98d1"
      },
      "outputs": [],
      "source": [
        "#import data from csv file\n",
        "df1 = pd.read_csv('S&P BSE Teck Historical Data.csv')\n",
        "df1 = df1[::-1]"
      ]
    },
    {
      "cell_type": "code",
      "execution_count": 3,
      "metadata": {
        "id": "Dh2Mi44A98d2"
      },
      "outputs": [],
      "source": [
        "# API details (replace with actual values)\n",
        "api_url = \"https://api.mfapi.in/mf/120594\"\n",
        "api_params = {\"scheme_code\": 120594}  # Assuming scheme_code is the required parameter\n",
        "\n",
        "# Make the API request\n",
        "response = requests.get(api_url, params=api_params)\n",
        "data = response.json()\n",
        "\n",
        "# Create a DataFrame\n",
        "df = pd.DataFrame(data[\"data\"])  # Extract the \"data\" list from the response\n",
        "df = df[::-1]\n",
        "\n",
        "# Add calculated column (replace with your calculation logic)\n",
        "#df[\"calculated_column\"] = df[\"nav\"] * 1.1  # Example: increase NAV by 10%\n",
        "\n",
        "# Save to CSV\n",
        "#df.to_csv(\"fund_data.csv\", index=False)\n"
      ]
    },
    {
      "cell_type": "code",
      "execution_count": 4,
      "metadata": {
        "id": "WUkW-ERJ98d2"
      },
      "outputs": [],
      "source": [
        "# Rename the column first\n",
        "df1.rename(columns={\"Date\": \"date\"}, inplace=True)\n",
        "\n",
        "# Now convert the date format\n",
        "df1[\"date\"] = pd.to_datetime(df1[\"date\"], format='%m/%d/%Y').dt.strftime(\"%d-%m-%Y\")"
      ]
    },
    {
      "cell_type": "code",
      "execution_count": 5,
      "metadata": {
        "colab": {
          "base_uri": "https://localhost:8080/"
        },
        "id": "fR7Umztu98d2",
        "outputId": "be55e252-a26a-4a33-9188-4bf5a2644351"
      },
      "outputs": [
        {
          "output_type": "stream",
          "name": "stdout",
          "text": [
            "            date     Price      Open      High       Low    Vol. Change %\n",
            "2735  02-01-2013  3,445.46  3,454.78  3,459.53  3,441.20   7.90K    0.20%\n",
            "2734  03-01-2013  3,491.06  3,453.27  3,496.87  3,448.30  12.69K    1.32%\n",
            "2733  04-01-2013  3,514.91  3,502.28  3,517.65  3,498.69   8.84K    0.68%\n",
            "2732  07-01-2013  3,519.49  3,524.77  3,537.07  3,514.18  10.46K    0.13%\n",
            "2731  08-01-2013  3,514.39  3,516.38  3,522.73  3,495.37   8.36K   -0.14%\n"
          ]
        }
      ],
      "source": [
        "print(df1.head())"
      ]
    },
    {
      "cell_type": "code",
      "source": [
        "print(df.head())"
      ],
      "metadata": {
        "colab": {
          "base_uri": "https://localhost:8080/"
        },
        "id": "2_HxZfCTXd9j",
        "outputId": "64ca7f45-d05d-4d40-f752-87289a080bb5"
      },
      "execution_count": 6,
      "outputs": [
        {
          "output_type": "stream",
          "name": "stdout",
          "text": [
            "            date       nav\n",
            "2784  02-01-2013  19.47000\n",
            "2783  03-01-2013  19.68000\n",
            "2782  04-01-2013  19.74000\n",
            "2781  07-01-2013  19.70000\n",
            "2780  08-01-2013  19.71000\n"
          ]
        }
      ]
    },
    {
      "cell_type": "code",
      "execution_count": 7,
      "metadata": {
        "colab": {
          "base_uri": "https://localhost:8080/"
        },
        "id": "k4OQT-Xw98d3",
        "outputId": "7d6db0e1-306e-4da5-9ed1-39681a324971"
      },
      "outputs": [
        {
          "output_type": "stream",
          "name": "stdout",
          "text": [
            "0\n",
            "0\n",
            "0\n",
            "0\n",
            "2736\n",
            "2785\n"
          ]
        }
      ],
      "source": [
        "print(df1['date'].duplicated().sum())\n",
        "print(df['date'].duplicated().sum())\n",
        "print(df1['date'].isna().sum())\n",
        "print(df['date'].isna().sum())\n",
        "print(len(df1))\n",
        "print(len(df))"
      ]
    },
    {
      "cell_type": "code",
      "execution_count": 8,
      "metadata": {
        "colab": {
          "base_uri": "https://localhost:8080/"
        },
        "id": "ZJXMbgKb98d4",
        "outputId": "4639bcf7-a581-4180-994c-d5b666b9f9dc"
      },
      "outputs": [
        {
          "output_type": "stream",
          "name": "stdout",
          "text": [
            "            date     Price      Open      High       Low    Vol. Change %\n",
            "2735  02-01-2013  3,445.46  3,454.78  3,459.53  3,441.20   7.90K    0.20%\n",
            "2734  03-01-2013  3,491.06  3,453.27  3,496.87  3,448.30  12.69K    1.32%\n",
            "2733  04-01-2013  3,514.91  3,502.28  3,517.65  3,498.69   8.84K    0.68%\n",
            "2732  07-01-2013  3,519.49  3,524.77  3,537.07  3,514.18  10.46K    0.13%\n",
            "2731  08-01-2013  3,514.39  3,516.38  3,522.73  3,495.37   8.36K   -0.14%\n",
            "            date       nav\n",
            "2784  02-01-2013  19.47000\n",
            "2783  03-01-2013  19.68000\n",
            "2782  04-01-2013  19.74000\n",
            "2781  07-01-2013  19.70000\n",
            "2780  08-01-2013  19.71000\n",
            "         date      Price       Open       High        Low    Vol. Change %\n",
            "4  16-01-2024  16,544.56  16,740.20  16,740.20  16,501.08  73.74K   -1.12%\n",
            "3  17-01-2024  16,580.51  16,424.69  16,656.80  16,390.26  75.05K    0.22%\n",
            "2  18-01-2024  16,548.78  16,517.33  16,574.08  16,344.10  50.58K   -0.19%\n",
            "1  19-01-2024  16,762.62  16,673.91  16,779.41  16,673.79  59.58K    1.29%\n",
            "0  20-01-2024  16,616.35  16,840.91  16,848.41  16,604.55     NaN   -0.87%\n",
            "         date        nav\n",
            "4  24-04-2024  186.08000\n",
            "3  25-04-2024  186.92000\n",
            "2  26-04-2024  187.36000\n",
            "1  29-04-2024  187.34000\n",
            "0  30-04-2024  185.65000\n"
          ]
        }
      ],
      "source": [
        "print(df1.head())\n",
        "print(df.head())\n",
        "print(df1.tail())\n",
        "print(df.tail())"
      ]
    },
    {
      "cell_type": "code",
      "execution_count": 9,
      "metadata": {
        "id": "W133n2Uj98d4"
      },
      "outputs": [],
      "source": [
        "df1[\"Change %\"] = df1[\"Change %\"].str.replace(\"%\", \"\")\n",
        "#do it for each column except date\n",
        "df1[\"Price\"] = df1[\"Price\"].str.replace(\",\", \"\")\n",
        "df1[\"Open\"] = df1[\"Open\"].str.replace(\",\", \"\")\n",
        "df1[\"High\"] = df1[\"High\"].str.replace(\",\", \"\")\n",
        "df1[\"Low\"] = df1[\"Low\"].str.replace(\",\", \"\")\n",
        "numeric_columns = df1.columns.difference([\"date\", \"Vol.\"])"
      ]
    },
    {
      "cell_type": "code",
      "execution_count": 10,
      "metadata": {
        "id": "FOXWHvTk98d5"
      },
      "outputs": [],
      "source": [
        "#convert Vol. to numeric and replace the values in the same column\n",
        "#if K then multiply by 1000, if M then multiply by 1000000, if B then multiply by 1000000000\n",
        "#create a function to do this\n",
        "def adjust_volume(value):\n",
        "    if pd.isna(value):\n",
        "        return value  # Keep NaN as is\n",
        "\n",
        "    if value.endswith(\"M\"):\n",
        "        return pd.to_numeric(value[:-1]) * 1000000\n",
        "    elif value.endswith(\"B\"):\n",
        "        return pd.to_numeric(value[:-1]) * 1000000000\n",
        "    elif value.endswith(\"K\"):\n",
        "        return pd.to_numeric(value[:-1]) * 1000\n",
        "    else:\n",
        "        return pd.to_numeric(value)  # No modifier, assume original value\n",
        "df1['Vol.'] = df1['Vol.'].apply(adjust_volume)\n",
        "\n"
      ]
    },
    {
      "cell_type": "code",
      "execution_count": 11,
      "metadata": {
        "colab": {
          "base_uri": "https://localhost:8080/"
        },
        "id": "GKOgkUW9J_1d",
        "outputId": "aae2fbc0-be55-41c8-c7ca-9bc56b5af3cd"
      },
      "outputs": [
        {
          "output_type": "stream",
          "name": "stdout",
          "text": [
            "4\n"
          ]
        }
      ],
      "source": [
        "nan_count = df1['Vol.'].isna().sum()\n",
        "print(nan_count)"
      ]
    },
    {
      "cell_type": "code",
      "execution_count": 12,
      "metadata": {
        "colab": {
          "base_uri": "https://localhost:8080/"
        },
        "id": "VgTUaCL9LZ8U",
        "outputId": "bb050d77-1363-44bc-8e8f-683247d3d3e9"
      },
      "outputs": [
        {
          "output_type": "stream",
          "name": "stdout",
          "text": [
            "Index([356, 206, 108, 0], dtype='int64')\n"
          ]
        }
      ],
      "source": [
        "nan_indices = df1[df1['Vol.'].isna()].index\n",
        "print(nan_indices)"
      ]
    },
    {
      "cell_type": "code",
      "execution_count": 13,
      "metadata": {
        "id": "5OV377SmL7CP"
      },
      "outputs": [],
      "source": [
        "df1['Vol.'] = df1['Vol.'].interpolate()"
      ]
    },
    {
      "cell_type": "code",
      "execution_count": 14,
      "metadata": {
        "colab": {
          "base_uri": "https://localhost:8080/"
        },
        "id": "4Vd0Dj0AMDvE",
        "outputId": "b6c85bbc-329b-4179-f8ee-c7d233df9d18"
      },
      "outputs": [
        {
          "output_type": "stream",
          "name": "stdout",
          "text": [
            "0\n"
          ]
        }
      ],
      "source": [
        "nan_count = df1['Vol.'].isna().sum()\n",
        "print(nan_count)"
      ]
    },
    {
      "cell_type": "code",
      "execution_count": 15,
      "metadata": {
        "colab": {
          "base_uri": "https://localhost:8080/"
        },
        "id": "iD6_xdPi98d5",
        "outputId": "79d3d81f-2d57-40f9-b8ad-5f26573156fe"
      },
      "outputs": [
        {
          "output_type": "stream",
          "name": "stdout",
          "text": [
            "date         object\n",
            "Price        object\n",
            "Open         object\n",
            "High         object\n",
            "Low          object\n",
            "Vol.        float64\n",
            "Change %     object\n",
            "dtype: object\n"
          ]
        }
      ],
      "source": [
        "print(df1.dtypes)"
      ]
    },
    {
      "cell_type": "code",
      "execution_count": 16,
      "metadata": {
        "id": "3cUQugrY98d5"
      },
      "outputs": [],
      "source": [
        "\n",
        "#df1.dtypes\n",
        "df1[numeric_columns] = df1[numeric_columns].apply(pd.to_numeric)\n",
        "#df1[numeric_columns] = df1[numeric_columns].astype(float64)\n",
        "df[\"nav\"] = df[\"nav\"].apply(pd.to_numeric)\n"
      ]
    },
    {
      "cell_type": "code",
      "execution_count": 17,
      "metadata": {
        "colab": {
          "base_uri": "https://localhost:8080/"
        },
        "id": "cpCoO0yLqKQg",
        "outputId": "477c076b-ed8c-48d2-f744-35191ac30f7d"
      },
      "outputs": [
        {
          "output_type": "stream",
          "name": "stdout",
          "text": [
            "Collecting ta\n",
            "  Downloading ta-0.11.0.tar.gz (25 kB)\n",
            "  Preparing metadata (setup.py) ... \u001b[?25l\u001b[?25hdone\n",
            "Requirement already satisfied: numpy in /usr/local/lib/python3.10/dist-packages (from ta) (1.25.2)\n",
            "Requirement already satisfied: pandas in /usr/local/lib/python3.10/dist-packages (from ta) (2.0.3)\n",
            "Requirement already satisfied: python-dateutil>=2.8.2 in /usr/local/lib/python3.10/dist-packages (from pandas->ta) (2.8.2)\n",
            "Requirement already satisfied: pytz>=2020.1 in /usr/local/lib/python3.10/dist-packages (from pandas->ta) (2023.4)\n",
            "Requirement already satisfied: tzdata>=2022.1 in /usr/local/lib/python3.10/dist-packages (from pandas->ta) (2024.1)\n",
            "Requirement already satisfied: six>=1.5 in /usr/local/lib/python3.10/dist-packages (from python-dateutil>=2.8.2->pandas->ta) (1.16.0)\n",
            "Building wheels for collected packages: ta\n",
            "  Building wheel for ta (setup.py) ... \u001b[?25l\u001b[?25hdone\n",
            "  Created wheel for ta: filename=ta-0.11.0-py3-none-any.whl size=29411 sha256=0bac2a83978c3fe3c33058e56ebff7f5b34ff5bf5b1f8febe66cfce93397a6b0\n",
            "  Stored in directory: /root/.cache/pip/wheels/5f/67/4f/8a9f252836e053e532c6587a3230bc72a4deb16b03a829610b\n",
            "Successfully built ta\n",
            "Installing collected packages: ta\n",
            "Successfully installed ta-0.11.0\n"
          ]
        }
      ],
      "source": [
        "!pip install ta"
      ]
    },
    {
      "cell_type": "code",
      "execution_count": 18,
      "metadata": {
        "id": "GzLaw2xUq68N"
      },
      "outputs": [],
      "source": [
        "import ta\n",
        "\n",
        "# Assuming your df index data is in a DataFrame 'df'\n",
        "df['RSI'] = ta.momentum.rsi(df['nav'], window=14)\n",
        "macd = ta.trend.macd_diff(df['nav'])\n",
        "df['MACD'] = macd\n",
        "macd_signal = ta.trend.macd_signal(df['nav'])\n",
        "df['MACD_Signal'] = macd_signal\n",
        "bandwidth = 2\n",
        "indicator_bb = ta.volatility.BollingerBands(close=df['nav'], window=20, window_dev=2)\n",
        "df['BB_Upper'] = indicator_bb.bollinger_hband()\n",
        "df['BB_Middle'] = indicator_bb.bollinger_mavg()\n",
        "df['BB_Lower'] = indicator_bb.bollinger_lband()"
      ]
    },
    {
      "cell_type": "code",
      "execution_count": 19,
      "metadata": {
        "colab": {
          "base_uri": "https://localhost:8080/"
        },
        "id": "wX3OnJyCX88P",
        "outputId": "5d5dab7c-64ef-436e-b987-29d32e7e34a8"
      },
      "outputs": [
        {
          "output_type": "stream",
          "name": "stdout",
          "text": [
            "19\n",
            "19\n",
            "19\n",
            "13\n",
            "33\n",
            "33\n"
          ]
        }
      ],
      "source": [
        "#clean the new columns\n",
        "print(df['BB_Upper'].isna().sum())\n",
        "print(df['BB_Lower'].isna().sum())\n",
        "print(df['BB_Middle'].isna().sum())\n",
        "print(df['RSI'].isna().sum())\n",
        "print(df['MACD'].isna().sum())\n",
        "print(df['MACD_Signal'].isna().sum())"
      ]
    },
    {
      "cell_type": "code",
      "execution_count": 20,
      "metadata": {
        "colab": {
          "base_uri": "https://localhost:8080/"
        },
        "id": "B3lULY-LJjnS",
        "outputId": "34703450-1975-4654-894d-a476b68da7be"
      },
      "outputs": [
        {
          "output_type": "stream",
          "name": "stdout",
          "text": [
            "date         object\n",
            "Price       float64\n",
            "Open        float64\n",
            "High        float64\n",
            "Low         float64\n",
            "Vol.        float64\n",
            "Change %    float64\n",
            "dtype: object\n"
          ]
        }
      ],
      "source": [
        "# drop 33 rows\n",
        "df = df.iloc[33:]\n",
        "print(df1.dtypes)"
      ]
    },
    {
      "cell_type": "code",
      "execution_count": 21,
      "metadata": {
        "colab": {
          "base_uri": "https://localhost:8080/"
        },
        "id": "ZDYXmWaGSTuW",
        "outputId": "d04d001a-25b3-41d9-c651-7a08a47f19a2"
      },
      "outputs": [
        {
          "output_type": "stream",
          "name": "stdout",
          "text": [
            "0\n",
            "0\n",
            "0\n",
            "0\n",
            "0\n",
            "0\n"
          ]
        }
      ],
      "source": [
        "#check the new columns again\n",
        "print(df['BB_Upper'].isna().sum())\n",
        "print(df['BB_Lower'].isna().sum())\n",
        "print(df['BB_Middle'].isna().sum())\n",
        "print(df['RSI'].isna().sum())\n",
        "print(df['MACD'].isna().sum())\n",
        "print(df['MACD_Signal'].isna().sum())"
      ]
    },
    {
      "cell_type": "code",
      "execution_count": 22,
      "metadata": {
        "colab": {
          "base_uri": "https://localhost:8080/"
        },
        "id": "Ub8_VePF98d4",
        "outputId": "7f238b5c-f1a0-4560-8acd-00d1d3967c8f"
      },
      "outputs": [
        {
          "output_type": "stream",
          "name": "stdout",
          "text": [
            "2686\n",
            "2686\n"
          ]
        }
      ],
      "source": [
        "#keep only the dates in df1 that are in df\n",
        "df1 = df1[df1['date'].isin(df['date'])]\n",
        "print(len(df1))\n",
        "df = df[df['date'].isin(df1['date'])]\n",
        "print(len(df))"
      ]
    },
    {
      "cell_type": "code",
      "execution_count": 23,
      "metadata": {
        "colab": {
          "base_uri": "https://localhost:8080/"
        },
        "id": "yvfaZrdo98d5",
        "outputId": "01321b8b-74ba-4c86-aa38-8d515c268a99"
      },
      "outputs": [
        {
          "output_type": "stream",
          "name": "stdout",
          "text": [
            "         date    nav        RSI      MACD  MACD_Signal   BB_Upper  BB_Middle  \\\n",
            "0  18-02-2013  20.73  50.497624 -0.058591     0.140630  21.293071    20.9335   \n",
            "1  19-02-2013  21.03  60.286057 -0.037770     0.131188  21.268631    20.9255   \n",
            "2  20-02-2013  21.38  68.189104 -0.001599     0.130788  21.313524    20.9345   \n",
            "3  21-02-2013  21.27  63.886142  0.012944     0.134024  21.349256    20.9455   \n",
            "4  22-02-2013  21.43  67.134778  0.030369     0.141616  21.395249    20.9555   \n",
            "\n",
            "    BB_Lower    Price     Open     High      Low     Vol.  Change %  \n",
            "0  20.573929  3760.89  3778.80  3778.80  3750.41   6590.0     -0.47  \n",
            "1  20.582369  3802.35  3765.17  3810.22  3748.82   8760.0      1.10  \n",
            "2  20.555476  3813.27  3813.55  3819.52  3805.31   9610.0      0.29  \n",
            "3  20.541744  3772.99  3793.35  3816.14  3768.97  12610.0     -1.06  \n",
            "4  20.515751  3822.99  3774.42  3838.31  3774.42   9390.0      1.33  \n",
            "date            object\n",
            "nav            float64\n",
            "RSI            float64\n",
            "MACD           float64\n",
            "MACD_Signal    float64\n",
            "BB_Upper       float64\n",
            "BB_Middle      float64\n",
            "BB_Lower       float64\n",
            "Price          float64\n",
            "Open           float64\n",
            "High           float64\n",
            "Low            float64\n",
            "Vol.           float64\n",
            "Change %       float64\n",
            "dtype: object\n"
          ]
        }
      ],
      "source": [
        "merged_data = df.merge(df1, on=\"date\")\n",
        "print(merged_data.head())\n",
        "print(merged_data.dtypes)"
      ]
    },
    {
      "cell_type": "code",
      "execution_count": 24,
      "metadata": {
        "colab": {
          "base_uri": "https://localhost:8080/"
        },
        "id": "fCA04Te1Ui5m",
        "outputId": "7d036509-b2d6-4b07-b71f-2da854174d30"
      },
      "outputs": [
        {
          "output_type": "stream",
          "name": "stdout",
          "text": [
            "0\n",
            "0\n",
            "0\n",
            "0\n",
            "0\n",
            "0\n"
          ]
        }
      ],
      "source": [
        "#clean the new columns\n",
        "print(merged_data['BB_Upper'].isna().sum())\n",
        "print(merged_data['BB_Lower'].isna().sum())\n",
        "print(merged_data['BB_Middle'].isna().sum())\n",
        "print(merged_data['RSI'].isna().sum())\n",
        "print(merged_data['MACD'].isna().sum())\n",
        "print(merged_data['MACD_Signal'].isna().sum())"
      ]
    },
    {
      "cell_type": "code",
      "execution_count": 25,
      "metadata": {
        "colab": {
          "base_uri": "https://localhost:8080/"
        },
        "id": "DXoip8MI98d6",
        "outputId": "6a5702f3-826c-4d47-f3c1-c76c9cf13f57"
      },
      "outputs": [
        {
          "output_type": "stream",
          "name": "stdout",
          "text": [
            "         nav     Price  Index_Return  Expected_Fund_Return  Fund_Return  \\\n",
            "0      20.73   3760.89       -0.0047             -0.805863   180.422576   \n",
            "1      21.03   3802.35        0.0110             -0.621779   179.805991   \n",
            "2      21.38   3813.27        0.0029             -0.716753   177.356876   \n",
            "3      21.27   3772.99       -0.0106             -0.875041   176.385520   \n",
            "4      21.43   3822.99        0.0133             -0.594812   177.394307   \n",
            "...      ...       ...           ...                   ...          ...   \n",
            "2681  195.54  16732.45        0.0179             -0.540876    84.570472   \n",
            "2682  193.88  16544.56       -0.0112             -0.882076    84.334021   \n",
            "2683  194.08  16580.51        0.0022             -0.724960    84.431317   \n",
            "2684  193.29  16548.78       -0.0019             -0.773033    84.616328   \n",
            "2685  196.09  16762.62        0.0129             -0.599502    84.484318   \n",
            "\n",
            "           Alpha  \n",
            "0     181.228439  \n",
            "1     180.427771  \n",
            "2     178.073628  \n",
            "3     177.260561  \n",
            "4     177.989119  \n",
            "...          ...  \n",
            "2681   85.111348  \n",
            "2682   85.216097  \n",
            "2683   85.156277  \n",
            "2684   85.389361  \n",
            "2685   85.083820  \n",
            "\n",
            "[2686 rows x 6 columns]\n"
          ]
        }
      ],
      "source": [
        "risk_free_rate = 0.07\n",
        "\n",
        "# Calculate the returns for the mutual fund and benchmark index\n",
        "merged_data['Fund_Return'] = (merged_data['Price'] - merged_data['nav']) / merged_data['nav']\n",
        "merged_data['Index_Return'] = merged_data['Change %'] / 100  # Assuming change% is in percentage\n",
        "\n",
        "# Calculate the beta value (covariance/variance)\n",
        "covariance_matrix = merged_data[['Fund_Return', 'Index_Return']].cov()\n",
        "beta = covariance_matrix.loc['Fund_Return', 'Index_Return'] / covariance_matrix.loc['Index_Return', 'Index_Return']\n",
        "\n",
        "# Calculate the expected return of the mutual fund using CAPM\n",
        "merged_data['Expected_Fund_Return'] = risk_free_rate + beta * (merged_data['Index_Return'] - risk_free_rate)\n",
        "\n",
        "# Calculate alpha value\n",
        "merged_data['Alpha'] = merged_data['Fund_Return'] - merged_data['Expected_Fund_Return']\n",
        "\n",
        "# Display the dataframe with alpha values\n",
        "print(merged_data[['nav', 'Price', 'Index_Return', 'Expected_Fund_Return', 'Fund_Return', 'Alpha']])"
      ]
    },
    {
      "cell_type": "code",
      "execution_count": 26,
      "metadata": {
        "colab": {
          "base_uri": "https://localhost:8080/"
        },
        "id": "TfyXFTdV98d6",
        "outputId": "4d301447-b983-479f-fbc9-ed0a25a1af8f"
      },
      "outputs": [
        {
          "output_type": "stream",
          "name": "stdout",
          "text": [
            "date                     object\n",
            "nav                     float64\n",
            "RSI                     float64\n",
            "MACD                    float64\n",
            "MACD_Signal             float64\n",
            "BB_Upper                float64\n",
            "BB_Middle               float64\n",
            "BB_Lower                float64\n",
            "Price                   float64\n",
            "Open                    float64\n",
            "High                    float64\n",
            "Low                     float64\n",
            "Vol.                    float64\n",
            "Change %                float64\n",
            "Fund_Return             float64\n",
            "Index_Return            float64\n",
            "Expected_Fund_Return    float64\n",
            "Alpha                   float64\n",
            "dtype: object\n"
          ]
        }
      ],
      "source": [
        "print(merged_data.dtypes)"
      ]
    },
    {
      "cell_type": "code",
      "execution_count": 27,
      "metadata": {
        "colab": {
          "base_uri": "https://localhost:8080/"
        },
        "id": "P1kl5FxfC3eN",
        "outputId": "215f8c28-4f76-4cd0-de78-a7fb219ba461"
      },
      "outputs": [
        {
          "output_type": "stream",
          "name": "stdout",
          "text": [
            "[]\n"
          ]
        }
      ],
      "source": [
        "from sklearn.feature_selection import mutual_info_regression\n",
        "X = merged_data.drop(['nav','date'], axis=1)\n",
        "y = merged_data['nav']\n",
        "columns_with_nan = X.columns[X.isna().any()].tolist()\n",
        "print(columns_with_nan)"
      ]
    },
    {
      "cell_type": "code",
      "execution_count": 28,
      "metadata": {
        "colab": {
          "base_uri": "https://localhost:8080/"
        },
        "id": "oIuVEEJjD9Hl",
        "outputId": "f4dcef49-b856-4d40-f9cc-d7b27b96a34b"
      },
      "outputs": [
        {
          "output_type": "stream",
          "name": "stdout",
          "text": [
            "BB_Upper                2.930613\n",
            "Price                   2.923974\n",
            "BB_Middle               2.869908\n",
            "Low                     2.781264\n",
            "High                    2.757899\n",
            "BB_Lower                2.740464\n",
            "Open                    2.599539\n",
            "Alpha                   2.251824\n",
            "Fund_Return             2.250718\n",
            "MACD_Signal             1.145425\n",
            "Vol.                    0.620661\n",
            "MACD                    0.472232\n",
            "RSI                     0.408721\n",
            "Change %                0.000000\n",
            "Index_Return            0.000000\n",
            "Expected_Fund_Return    0.000000\n",
            "dtype: float64\n"
          ]
        }
      ],
      "source": [
        "mutual_info = mutual_info_regression(X, y)\n",
        "mutual_info = pd.Series(mutual_info, index=X.columns)\n",
        "mutual_info.sort_values(ascending=False, inplace=True)\n",
        "print(mutual_info)"
      ]
    },
    {
      "cell_type": "code",
      "execution_count": 29,
      "metadata": {
        "colab": {
          "base_uri": "https://localhost:8080/"
        },
        "id": "zKXgMehvWorC",
        "outputId": "1bc99d9b-9259-48ba-915b-dffea4f74f18"
      },
      "outputs": [
        {
          "output_type": "stream",
          "name": "stdout",
          "text": [
            "\n",
            "Feature Importance from Random Forest:\n",
            "Price                   0.459622\n",
            "BB_Upper                0.235683\n",
            "Low                     0.130628\n",
            "High                    0.075076\n",
            "BB_Middle               0.045809\n",
            "BB_Lower                0.030209\n",
            "Open                    0.018602\n",
            "Alpha                   0.002363\n",
            "Fund_Return             0.001456\n",
            "RSI                     0.000290\n",
            "MACD_Signal             0.000113\n",
            "MACD                    0.000111\n",
            "Vol.                    0.000017\n",
            "Change %                0.000007\n",
            "Expected_Fund_Return    0.000007\n",
            "Index_Return            0.000006\n",
            "dtype: float64\n"
          ]
        }
      ],
      "source": [
        "from sklearn.ensemble import RandomForestRegressor\n",
        "rf_model = RandomForestRegressor()\n",
        "rf_model.fit(X, y)\n",
        "feature_importances = pd.Series(rf_model.feature_importances_, index=X.columns)\n",
        "feature_importances_sorted = feature_importances.sort_values(ascending=False)\n",
        "print(\"\\nFeature Importance from Random Forest:\")\n",
        "print(feature_importances_sorted)"
      ]
    },
    {
      "cell_type": "code",
      "execution_count": 30,
      "metadata": {
        "id": "q_HSf1xchvWJ"
      },
      "outputs": [],
      "source": [
        "#dropping the unecessary columns\n",
        "merged_data = merged_data.drop(['Change %','Index_Return','Expected_Fund_Return'], axis=1)"
      ]
    },
    {
      "cell_type": "code",
      "execution_count": 31,
      "metadata": {
        "colab": {
          "base_uri": "https://localhost:8080/"
        },
        "id": "yKzI2KTxjN_O",
        "outputId": "12d7d86b-5b9d-454c-cb4a-e2a9a830871a"
      },
      "outputs": [
        {
          "output_type": "stream",
          "name": "stdout",
          "text": [
            "date            object\n",
            "nav            float64\n",
            "RSI            float64\n",
            "MACD           float64\n",
            "MACD_Signal    float64\n",
            "BB_Upper       float64\n",
            "BB_Middle      float64\n",
            "BB_Lower       float64\n",
            "Price          float64\n",
            "Open           float64\n",
            "High           float64\n",
            "Low            float64\n",
            "Vol.           float64\n",
            "Fund_Return    float64\n",
            "Alpha          float64\n",
            "dtype: object\n",
            "(2686, 15)\n"
          ]
        }
      ],
      "source": [
        "print(merged_data.dtypes)\n",
        "print(merged_data.shape)"
      ]
    },
    {
      "cell_type": "code",
      "source": [
        "merged_data.head()"
      ],
      "metadata": {
        "colab": {
          "base_uri": "https://localhost:8080/",
          "height": 399
        },
        "id": "_CHx7d1P_YvY",
        "outputId": "a57f8528-6ef9-46d3-f41a-abcdc6883e93"
      },
      "execution_count": 32,
      "outputs": [
        {
          "output_type": "execute_result",
          "data": {
            "text/plain": [
              "         date    nav        RSI      MACD  MACD_Signal   BB_Upper  BB_Middle  \\\n",
              "0  18-02-2013  20.73  50.497624 -0.058591     0.140630  21.293071    20.9335   \n",
              "1  19-02-2013  21.03  60.286057 -0.037770     0.131188  21.268631    20.9255   \n",
              "2  20-02-2013  21.38  68.189104 -0.001599     0.130788  21.313524    20.9345   \n",
              "3  21-02-2013  21.27  63.886142  0.012944     0.134024  21.349256    20.9455   \n",
              "4  22-02-2013  21.43  67.134778  0.030369     0.141616  21.395249    20.9555   \n",
              "\n",
              "    BB_Lower    Price     Open     High      Low     Vol.  Fund_Return  \\\n",
              "0  20.573929  3760.89  3778.80  3778.80  3750.41   6590.0   180.422576   \n",
              "1  20.582369  3802.35  3765.17  3810.22  3748.82   8760.0   179.805991   \n",
              "2  20.555476  3813.27  3813.55  3819.52  3805.31   9610.0   177.356876   \n",
              "3  20.541744  3772.99  3793.35  3816.14  3768.97  12610.0   176.385520   \n",
              "4  20.515751  3822.99  3774.42  3838.31  3774.42   9390.0   177.394307   \n",
              "\n",
              "        Alpha  \n",
              "0  181.228439  \n",
              "1  180.427771  \n",
              "2  178.073628  \n",
              "3  177.260561  \n",
              "4  177.989119  "
            ],
            "text/html": [
              "\n",
              "  <div id=\"df-7a71204a-04e4-4799-a714-989c7f50c132\" class=\"colab-df-container\">\n",
              "    <div>\n",
              "<style scoped>\n",
              "    .dataframe tbody tr th:only-of-type {\n",
              "        vertical-align: middle;\n",
              "    }\n",
              "\n",
              "    .dataframe tbody tr th {\n",
              "        vertical-align: top;\n",
              "    }\n",
              "\n",
              "    .dataframe thead th {\n",
              "        text-align: right;\n",
              "    }\n",
              "</style>\n",
              "<table border=\"1\" class=\"dataframe\">\n",
              "  <thead>\n",
              "    <tr style=\"text-align: right;\">\n",
              "      <th></th>\n",
              "      <th>date</th>\n",
              "      <th>nav</th>\n",
              "      <th>RSI</th>\n",
              "      <th>MACD</th>\n",
              "      <th>MACD_Signal</th>\n",
              "      <th>BB_Upper</th>\n",
              "      <th>BB_Middle</th>\n",
              "      <th>BB_Lower</th>\n",
              "      <th>Price</th>\n",
              "      <th>Open</th>\n",
              "      <th>High</th>\n",
              "      <th>Low</th>\n",
              "      <th>Vol.</th>\n",
              "      <th>Fund_Return</th>\n",
              "      <th>Alpha</th>\n",
              "    </tr>\n",
              "  </thead>\n",
              "  <tbody>\n",
              "    <tr>\n",
              "      <th>0</th>\n",
              "      <td>18-02-2013</td>\n",
              "      <td>20.73</td>\n",
              "      <td>50.497624</td>\n",
              "      <td>-0.058591</td>\n",
              "      <td>0.140630</td>\n",
              "      <td>21.293071</td>\n",
              "      <td>20.9335</td>\n",
              "      <td>20.573929</td>\n",
              "      <td>3760.89</td>\n",
              "      <td>3778.80</td>\n",
              "      <td>3778.80</td>\n",
              "      <td>3750.41</td>\n",
              "      <td>6590.0</td>\n",
              "      <td>180.422576</td>\n",
              "      <td>181.228439</td>\n",
              "    </tr>\n",
              "    <tr>\n",
              "      <th>1</th>\n",
              "      <td>19-02-2013</td>\n",
              "      <td>21.03</td>\n",
              "      <td>60.286057</td>\n",
              "      <td>-0.037770</td>\n",
              "      <td>0.131188</td>\n",
              "      <td>21.268631</td>\n",
              "      <td>20.9255</td>\n",
              "      <td>20.582369</td>\n",
              "      <td>3802.35</td>\n",
              "      <td>3765.17</td>\n",
              "      <td>3810.22</td>\n",
              "      <td>3748.82</td>\n",
              "      <td>8760.0</td>\n",
              "      <td>179.805991</td>\n",
              "      <td>180.427771</td>\n",
              "    </tr>\n",
              "    <tr>\n",
              "      <th>2</th>\n",
              "      <td>20-02-2013</td>\n",
              "      <td>21.38</td>\n",
              "      <td>68.189104</td>\n",
              "      <td>-0.001599</td>\n",
              "      <td>0.130788</td>\n",
              "      <td>21.313524</td>\n",
              "      <td>20.9345</td>\n",
              "      <td>20.555476</td>\n",
              "      <td>3813.27</td>\n",
              "      <td>3813.55</td>\n",
              "      <td>3819.52</td>\n",
              "      <td>3805.31</td>\n",
              "      <td>9610.0</td>\n",
              "      <td>177.356876</td>\n",
              "      <td>178.073628</td>\n",
              "    </tr>\n",
              "    <tr>\n",
              "      <th>3</th>\n",
              "      <td>21-02-2013</td>\n",
              "      <td>21.27</td>\n",
              "      <td>63.886142</td>\n",
              "      <td>0.012944</td>\n",
              "      <td>0.134024</td>\n",
              "      <td>21.349256</td>\n",
              "      <td>20.9455</td>\n",
              "      <td>20.541744</td>\n",
              "      <td>3772.99</td>\n",
              "      <td>3793.35</td>\n",
              "      <td>3816.14</td>\n",
              "      <td>3768.97</td>\n",
              "      <td>12610.0</td>\n",
              "      <td>176.385520</td>\n",
              "      <td>177.260561</td>\n",
              "    </tr>\n",
              "    <tr>\n",
              "      <th>4</th>\n",
              "      <td>22-02-2013</td>\n",
              "      <td>21.43</td>\n",
              "      <td>67.134778</td>\n",
              "      <td>0.030369</td>\n",
              "      <td>0.141616</td>\n",
              "      <td>21.395249</td>\n",
              "      <td>20.9555</td>\n",
              "      <td>20.515751</td>\n",
              "      <td>3822.99</td>\n",
              "      <td>3774.42</td>\n",
              "      <td>3838.31</td>\n",
              "      <td>3774.42</td>\n",
              "      <td>9390.0</td>\n",
              "      <td>177.394307</td>\n",
              "      <td>177.989119</td>\n",
              "    </tr>\n",
              "  </tbody>\n",
              "</table>\n",
              "</div>\n",
              "    <div class=\"colab-df-buttons\">\n",
              "\n",
              "  <div class=\"colab-df-container\">\n",
              "    <button class=\"colab-df-convert\" onclick=\"convertToInteractive('df-7a71204a-04e4-4799-a714-989c7f50c132')\"\n",
              "            title=\"Convert this dataframe to an interactive table.\"\n",
              "            style=\"display:none;\">\n",
              "\n",
              "  <svg xmlns=\"http://www.w3.org/2000/svg\" height=\"24px\" viewBox=\"0 -960 960 960\">\n",
              "    <path d=\"M120-120v-720h720v720H120Zm60-500h600v-160H180v160Zm220 220h160v-160H400v160Zm0 220h160v-160H400v160ZM180-400h160v-160H180v160Zm440 0h160v-160H620v160ZM180-180h160v-160H180v160Zm440 0h160v-160H620v160Z\"/>\n",
              "  </svg>\n",
              "    </button>\n",
              "\n",
              "  <style>\n",
              "    .colab-df-container {\n",
              "      display:flex;\n",
              "      gap: 12px;\n",
              "    }\n",
              "\n",
              "    .colab-df-convert {\n",
              "      background-color: #E8F0FE;\n",
              "      border: none;\n",
              "      border-radius: 50%;\n",
              "      cursor: pointer;\n",
              "      display: none;\n",
              "      fill: #1967D2;\n",
              "      height: 32px;\n",
              "      padding: 0 0 0 0;\n",
              "      width: 32px;\n",
              "    }\n",
              "\n",
              "    .colab-df-convert:hover {\n",
              "      background-color: #E2EBFA;\n",
              "      box-shadow: 0px 1px 2px rgba(60, 64, 67, 0.3), 0px 1px 3px 1px rgba(60, 64, 67, 0.15);\n",
              "      fill: #174EA6;\n",
              "    }\n",
              "\n",
              "    .colab-df-buttons div {\n",
              "      margin-bottom: 4px;\n",
              "    }\n",
              "\n",
              "    [theme=dark] .colab-df-convert {\n",
              "      background-color: #3B4455;\n",
              "      fill: #D2E3FC;\n",
              "    }\n",
              "\n",
              "    [theme=dark] .colab-df-convert:hover {\n",
              "      background-color: #434B5C;\n",
              "      box-shadow: 0px 1px 3px 1px rgba(0, 0, 0, 0.15);\n",
              "      filter: drop-shadow(0px 1px 2px rgba(0, 0, 0, 0.3));\n",
              "      fill: #FFFFFF;\n",
              "    }\n",
              "  </style>\n",
              "\n",
              "    <script>\n",
              "      const buttonEl =\n",
              "        document.querySelector('#df-7a71204a-04e4-4799-a714-989c7f50c132 button.colab-df-convert');\n",
              "      buttonEl.style.display =\n",
              "        google.colab.kernel.accessAllowed ? 'block' : 'none';\n",
              "\n",
              "      async function convertToInteractive(key) {\n",
              "        const element = document.querySelector('#df-7a71204a-04e4-4799-a714-989c7f50c132');\n",
              "        const dataTable =\n",
              "          await google.colab.kernel.invokeFunction('convertToInteractive',\n",
              "                                                    [key], {});\n",
              "        if (!dataTable) return;\n",
              "\n",
              "        const docLinkHtml = 'Like what you see? Visit the ' +\n",
              "          '<a target=\"_blank\" href=https://colab.research.google.com/notebooks/data_table.ipynb>data table notebook</a>'\n",
              "          + ' to learn more about interactive tables.';\n",
              "        element.innerHTML = '';\n",
              "        dataTable['output_type'] = 'display_data';\n",
              "        await google.colab.output.renderOutput(dataTable, element);\n",
              "        const docLink = document.createElement('div');\n",
              "        docLink.innerHTML = docLinkHtml;\n",
              "        element.appendChild(docLink);\n",
              "      }\n",
              "    </script>\n",
              "  </div>\n",
              "\n",
              "\n",
              "<div id=\"df-3bc4a054-2945-40e7-abaa-b4e646a67a7a\">\n",
              "  <button class=\"colab-df-quickchart\" onclick=\"quickchart('df-3bc4a054-2945-40e7-abaa-b4e646a67a7a')\"\n",
              "            title=\"Suggest charts\"\n",
              "            style=\"display:none;\">\n",
              "\n",
              "<svg xmlns=\"http://www.w3.org/2000/svg\" height=\"24px\"viewBox=\"0 0 24 24\"\n",
              "     width=\"24px\">\n",
              "    <g>\n",
              "        <path d=\"M19 3H5c-1.1 0-2 .9-2 2v14c0 1.1.9 2 2 2h14c1.1 0 2-.9 2-2V5c0-1.1-.9-2-2-2zM9 17H7v-7h2v7zm4 0h-2V7h2v10zm4 0h-2v-4h2v4z\"/>\n",
              "    </g>\n",
              "</svg>\n",
              "  </button>\n",
              "\n",
              "<style>\n",
              "  .colab-df-quickchart {\n",
              "      --bg-color: #E8F0FE;\n",
              "      --fill-color: #1967D2;\n",
              "      --hover-bg-color: #E2EBFA;\n",
              "      --hover-fill-color: #174EA6;\n",
              "      --disabled-fill-color: #AAA;\n",
              "      --disabled-bg-color: #DDD;\n",
              "  }\n",
              "\n",
              "  [theme=dark] .colab-df-quickchart {\n",
              "      --bg-color: #3B4455;\n",
              "      --fill-color: #D2E3FC;\n",
              "      --hover-bg-color: #434B5C;\n",
              "      --hover-fill-color: #FFFFFF;\n",
              "      --disabled-bg-color: #3B4455;\n",
              "      --disabled-fill-color: #666;\n",
              "  }\n",
              "\n",
              "  .colab-df-quickchart {\n",
              "    background-color: var(--bg-color);\n",
              "    border: none;\n",
              "    border-radius: 50%;\n",
              "    cursor: pointer;\n",
              "    display: none;\n",
              "    fill: var(--fill-color);\n",
              "    height: 32px;\n",
              "    padding: 0;\n",
              "    width: 32px;\n",
              "  }\n",
              "\n",
              "  .colab-df-quickchart:hover {\n",
              "    background-color: var(--hover-bg-color);\n",
              "    box-shadow: 0 1px 2px rgba(60, 64, 67, 0.3), 0 1px 3px 1px rgba(60, 64, 67, 0.15);\n",
              "    fill: var(--button-hover-fill-color);\n",
              "  }\n",
              "\n",
              "  .colab-df-quickchart-complete:disabled,\n",
              "  .colab-df-quickchart-complete:disabled:hover {\n",
              "    background-color: var(--disabled-bg-color);\n",
              "    fill: var(--disabled-fill-color);\n",
              "    box-shadow: none;\n",
              "  }\n",
              "\n",
              "  .colab-df-spinner {\n",
              "    border: 2px solid var(--fill-color);\n",
              "    border-color: transparent;\n",
              "    border-bottom-color: var(--fill-color);\n",
              "    animation:\n",
              "      spin 1s steps(1) infinite;\n",
              "  }\n",
              "\n",
              "  @keyframes spin {\n",
              "    0% {\n",
              "      border-color: transparent;\n",
              "      border-bottom-color: var(--fill-color);\n",
              "      border-left-color: var(--fill-color);\n",
              "    }\n",
              "    20% {\n",
              "      border-color: transparent;\n",
              "      border-left-color: var(--fill-color);\n",
              "      border-top-color: var(--fill-color);\n",
              "    }\n",
              "    30% {\n",
              "      border-color: transparent;\n",
              "      border-left-color: var(--fill-color);\n",
              "      border-top-color: var(--fill-color);\n",
              "      border-right-color: var(--fill-color);\n",
              "    }\n",
              "    40% {\n",
              "      border-color: transparent;\n",
              "      border-right-color: var(--fill-color);\n",
              "      border-top-color: var(--fill-color);\n",
              "    }\n",
              "    60% {\n",
              "      border-color: transparent;\n",
              "      border-right-color: var(--fill-color);\n",
              "    }\n",
              "    80% {\n",
              "      border-color: transparent;\n",
              "      border-right-color: var(--fill-color);\n",
              "      border-bottom-color: var(--fill-color);\n",
              "    }\n",
              "    90% {\n",
              "      border-color: transparent;\n",
              "      border-bottom-color: var(--fill-color);\n",
              "    }\n",
              "  }\n",
              "</style>\n",
              "\n",
              "  <script>\n",
              "    async function quickchart(key) {\n",
              "      const quickchartButtonEl =\n",
              "        document.querySelector('#' + key + ' button');\n",
              "      quickchartButtonEl.disabled = true;  // To prevent multiple clicks.\n",
              "      quickchartButtonEl.classList.add('colab-df-spinner');\n",
              "      try {\n",
              "        const charts = await google.colab.kernel.invokeFunction(\n",
              "            'suggestCharts', [key], {});\n",
              "      } catch (error) {\n",
              "        console.error('Error during call to suggestCharts:', error);\n",
              "      }\n",
              "      quickchartButtonEl.classList.remove('colab-df-spinner');\n",
              "      quickchartButtonEl.classList.add('colab-df-quickchart-complete');\n",
              "    }\n",
              "    (() => {\n",
              "      let quickchartButtonEl =\n",
              "        document.querySelector('#df-3bc4a054-2945-40e7-abaa-b4e646a67a7a button');\n",
              "      quickchartButtonEl.style.display =\n",
              "        google.colab.kernel.accessAllowed ? 'block' : 'none';\n",
              "    })();\n",
              "  </script>\n",
              "</div>\n",
              "\n",
              "    </div>\n",
              "  </div>\n"
            ],
            "application/vnd.google.colaboratory.intrinsic+json": {
              "type": "dataframe",
              "variable_name": "merged_data",
              "summary": "{\n  \"name\": \"merged_data\",\n  \"rows\": 2686,\n  \"fields\": [\n    {\n      \"column\": \"date\",\n      \"properties\": {\n        \"dtype\": \"object\",\n        \"num_unique_values\": 2686,\n        \"samples\": [\n          \"21-10-2015\",\n          \"25-08-2016\",\n          \"12-08-2014\"\n        ],\n        \"semantic_type\": \"\",\n        \"description\": \"\"\n      }\n    },\n    {\n      \"column\": \"nav\",\n      \"properties\": {\n        \"dtype\": \"number\",\n        \"std\": 49.82013449223656,\n        \"min\": 19.15,\n        \"max\": 196.09,\n        \"num_unique_values\": 2097,\n        \"samples\": [\n          19.77,\n          52.84,\n          53.13\n        ],\n        \"semantic_type\": \"\",\n        \"description\": \"\"\n      }\n    },\n    {\n      \"column\": \"RSI\",\n      \"properties\": {\n        \"dtype\": \"number\",\n        \"std\": 13.90887527788045,\n        \"min\": 10.540758826187798,\n        \"max\": 89.06089441542593,\n        \"num_unique_values\": 2668,\n        \"samples\": [\n          50.1492465811797,\n          82.97300687981343,\n          57.31598389824808\n        ],\n        \"semantic_type\": \"\",\n        \"description\": \"\"\n      }\n    },\n    {\n      \"column\": \"MACD\",\n      \"properties\": {\n        \"dtype\": \"number\",\n        \"std\": 0.35989780779804187,\n        \"min\": -2.6393727732028847,\n        \"max\": 1.4808730208263552,\n        \"num_unique_values\": 2686,\n        \"samples\": [\n          -0.018873963246524905,\n          -0.007402672246061226,\n          -0.04359685645524847\n        ],\n        \"semantic_type\": \"\",\n        \"description\": \"\"\n      }\n    },\n    {\n      \"column\": \"MACD_Signal\",\n      \"properties\": {\n        \"dtype\": \"number\",\n        \"std\": 1.3333024929248858,\n        \"min\": -5.2237415054332414,\n        \"max\": 4.5562637236572225,\n        \"num_unique_values\": 2686,\n        \"samples\": [\n          0.13148514102766518,\n          -0.3087884358970758,\n          0.6210226223278883\n        ],\n        \"semantic_type\": \"\",\n        \"description\": \"\"\n      }\n    },\n    {\n      \"column\": \"BB_Upper\",\n      \"properties\": {\n        \"dtype\": \"number\",\n        \"std\": 51.60461808341331,\n        \"min\": 19.984347626018263,\n        \"max\": 196.83692004093277,\n        \"num_unique_values\": 2685,\n        \"samples\": [\n          44.06842577572038,\n          41.93160215070518,\n          36.360557450751216\n        ],\n        \"semantic_type\": \"\",\n        \"description\": \"\"\n      }\n    },\n    {\n      \"column\": \"BB_Middle\",\n      \"properties\": {\n        \"dtype\": \"number\",\n        \"std\": 49.42273252343419,\n        \"min\": 19.5855,\n        \"max\": 188.257,\n        \"num_unique_values\": 2650,\n        \"samples\": [\n          64.501,\n          46.0045,\n          42.956\n        ],\n        \"semantic_type\": \"\",\n        \"description\": \"\"\n      }\n    },\n    {\n      \"column\": \"BB_Lower\",\n      \"properties\": {\n        \"dtype\": \"number\",\n        \"std\": 47.29916495858059,\n        \"min\": 18.470990169758604,\n        \"max\": 181.17845740562308,\n        \"num_unique_values\": 2685,\n        \"samples\": [\n          42.36757422427963,\n          39.983397849294825,\n          33.95844254924879\n        ],\n        \"semantic_type\": \"\",\n        \"description\": \"\"\n      }\n    },\n    {\n      \"column\": \"Price\",\n      \"properties\": {\n        \"dtype\": \"number\",\n        \"std\": 3643.0974739102917,\n        \"min\": 3413.32,\n        \"max\": 16960.26,\n        \"num_unique_values\": 2681,\n        \"samples\": [\n          5831.53,\n          7736.61,\n          7668.53\n        ],\n        \"semantic_type\": \"\",\n        \"description\": \"\"\n      }\n    },\n    {\n      \"column\": \"Open\",\n      \"properties\": {\n        \"dtype\": \"number\",\n        \"std\": 3643.8571533812033,\n        \"min\": 3416.22,\n        \"max\": 16971.88,\n        \"num_unique_values\": 2679,\n        \"samples\": [\n          4913.32,\n          7148.73,\n          6267.53\n        ],\n        \"semantic_type\": \"\",\n        \"description\": \"\"\n      }\n    },\n    {\n      \"column\": \"High\",\n      \"properties\": {\n        \"dtype\": \"number\",\n        \"std\": 3668.225480175896,\n        \"min\": 3450.5,\n        \"max\": 17054.48,\n        \"num_unique_values\": 2676,\n        \"samples\": [\n          5508.78,\n          13063.26,\n          5715.23\n        ],\n        \"semantic_type\": \"\",\n        \"description\": \"\"\n      }\n    },\n    {\n      \"column\": \"Low\",\n      \"properties\": {\n        \"dtype\": \"number\",\n        \"std\": 3615.5241405606585,\n        \"min\": 3402.87,\n        \"max\": 16849.05,\n        \"num_unique_values\": 2683,\n        \"samples\": [\n          13750.87,\n          5607.51,\n          7633.5\n        ],\n        \"semantic_type\": \"\",\n        \"description\": \"\"\n      }\n    },\n    {\n      \"column\": \"Vol.\",\n      \"properties\": {\n        \"dtype\": \"number\",\n        \"std\": 54648960.356862836,\n        \"min\": 3510.0,\n        \"max\": 804390000.0,\n        \"num_unique_values\": 2181,\n        \"samples\": [\n          28710.0,\n          13330.0,\n          13600000.0\n        ],\n        \"semantic_type\": \"\",\n        \"description\": \"\"\n      }\n    },\n    {\n      \"column\": \"Fund_Return\",\n      \"properties\": {\n        \"dtype\": \"number\",\n        \"std\": 26.62860044211043,\n        \"min\": 83.96651967989547,\n        \"max\": 188.80777728678746,\n        \"num_unique_values\": 2686,\n        \"samples\": [\n          141.82298850574713,\n          141.61056268509375,\n          152.8119921546652\n        ],\n        \"semantic_type\": \"\",\n        \"description\": \"\"\n      }\n    },\n    {\n      \"column\": \"Alpha\",\n      \"properties\": {\n        \"dtype\": \"number\",\n        \"std\": 26.62823631363834,\n        \"min\": 84.49601696659934,\n        \"max\": 189.29706339807151,\n        \"num_unique_values\": 2686,\n        \"samples\": [\n          142.50691087378834,\n          142.5207790143044,\n          153.5686099920976\n        ],\n        \"semantic_type\": \"\",\n        \"description\": \"\"\n      }\n    }\n  ]\n}"
            }
          },
          "metadata": {},
          "execution_count": 32
        }
      ]
    },
    {
      "cell_type": "code",
      "source": [
        "merged_data['nav_shifted'] = merged_data['nav'].shift(-1)\n",
        "merged_data.dropna(inplace=True)"
      ],
      "metadata": {
        "id": "e8EGyN_p_rUH"
      },
      "execution_count": 33,
      "outputs": []
    },
    {
      "cell_type": "code",
      "source": [
        "merged_data.head()"
      ],
      "metadata": {
        "colab": {
          "base_uri": "https://localhost:8080/",
          "height": 399
        },
        "id": "OrBwFvkbBDhJ",
        "outputId": "6a2915d1-1076-499c-e5b9-631024b07800"
      },
      "execution_count": 34,
      "outputs": [
        {
          "output_type": "execute_result",
          "data": {
            "text/plain": [
              "         date    nav        RSI      MACD  MACD_Signal   BB_Upper  BB_Middle  \\\n",
              "0  18-02-2013  20.73  50.497624 -0.058591     0.140630  21.293071    20.9335   \n",
              "1  19-02-2013  21.03  60.286057 -0.037770     0.131188  21.268631    20.9255   \n",
              "2  20-02-2013  21.38  68.189104 -0.001599     0.130788  21.313524    20.9345   \n",
              "3  21-02-2013  21.27  63.886142  0.012944     0.134024  21.349256    20.9455   \n",
              "4  22-02-2013  21.43  67.134778  0.030369     0.141616  21.395249    20.9555   \n",
              "\n",
              "    BB_Lower    Price     Open     High      Low     Vol.  Fund_Return  \\\n",
              "0  20.573929  3760.89  3778.80  3778.80  3750.41   6590.0   180.422576   \n",
              "1  20.582369  3802.35  3765.17  3810.22  3748.82   8760.0   179.805991   \n",
              "2  20.555476  3813.27  3813.55  3819.52  3805.31   9610.0   177.356876   \n",
              "3  20.541744  3772.99  3793.35  3816.14  3768.97  12610.0   176.385520   \n",
              "4  20.515751  3822.99  3774.42  3838.31  3774.42   9390.0   177.394307   \n",
              "\n",
              "        Alpha  nav_shifted  \n",
              "0  181.228439        21.03  \n",
              "1  180.427771        21.38  \n",
              "2  178.073628        21.27  \n",
              "3  177.260561        21.43  \n",
              "4  177.989119        21.66  "
            ],
            "text/html": [
              "\n",
              "  <div id=\"df-d06cc3e4-f615-4e8e-a457-04d89d1becb1\" class=\"colab-df-container\">\n",
              "    <div>\n",
              "<style scoped>\n",
              "    .dataframe tbody tr th:only-of-type {\n",
              "        vertical-align: middle;\n",
              "    }\n",
              "\n",
              "    .dataframe tbody tr th {\n",
              "        vertical-align: top;\n",
              "    }\n",
              "\n",
              "    .dataframe thead th {\n",
              "        text-align: right;\n",
              "    }\n",
              "</style>\n",
              "<table border=\"1\" class=\"dataframe\">\n",
              "  <thead>\n",
              "    <tr style=\"text-align: right;\">\n",
              "      <th></th>\n",
              "      <th>date</th>\n",
              "      <th>nav</th>\n",
              "      <th>RSI</th>\n",
              "      <th>MACD</th>\n",
              "      <th>MACD_Signal</th>\n",
              "      <th>BB_Upper</th>\n",
              "      <th>BB_Middle</th>\n",
              "      <th>BB_Lower</th>\n",
              "      <th>Price</th>\n",
              "      <th>Open</th>\n",
              "      <th>High</th>\n",
              "      <th>Low</th>\n",
              "      <th>Vol.</th>\n",
              "      <th>Fund_Return</th>\n",
              "      <th>Alpha</th>\n",
              "      <th>nav_shifted</th>\n",
              "    </tr>\n",
              "  </thead>\n",
              "  <tbody>\n",
              "    <tr>\n",
              "      <th>0</th>\n",
              "      <td>18-02-2013</td>\n",
              "      <td>20.73</td>\n",
              "      <td>50.497624</td>\n",
              "      <td>-0.058591</td>\n",
              "      <td>0.140630</td>\n",
              "      <td>21.293071</td>\n",
              "      <td>20.9335</td>\n",
              "      <td>20.573929</td>\n",
              "      <td>3760.89</td>\n",
              "      <td>3778.80</td>\n",
              "      <td>3778.80</td>\n",
              "      <td>3750.41</td>\n",
              "      <td>6590.0</td>\n",
              "      <td>180.422576</td>\n",
              "      <td>181.228439</td>\n",
              "      <td>21.03</td>\n",
              "    </tr>\n",
              "    <tr>\n",
              "      <th>1</th>\n",
              "      <td>19-02-2013</td>\n",
              "      <td>21.03</td>\n",
              "      <td>60.286057</td>\n",
              "      <td>-0.037770</td>\n",
              "      <td>0.131188</td>\n",
              "      <td>21.268631</td>\n",
              "      <td>20.9255</td>\n",
              "      <td>20.582369</td>\n",
              "      <td>3802.35</td>\n",
              "      <td>3765.17</td>\n",
              "      <td>3810.22</td>\n",
              "      <td>3748.82</td>\n",
              "      <td>8760.0</td>\n",
              "      <td>179.805991</td>\n",
              "      <td>180.427771</td>\n",
              "      <td>21.38</td>\n",
              "    </tr>\n",
              "    <tr>\n",
              "      <th>2</th>\n",
              "      <td>20-02-2013</td>\n",
              "      <td>21.38</td>\n",
              "      <td>68.189104</td>\n",
              "      <td>-0.001599</td>\n",
              "      <td>0.130788</td>\n",
              "      <td>21.313524</td>\n",
              "      <td>20.9345</td>\n",
              "      <td>20.555476</td>\n",
              "      <td>3813.27</td>\n",
              "      <td>3813.55</td>\n",
              "      <td>3819.52</td>\n",
              "      <td>3805.31</td>\n",
              "      <td>9610.0</td>\n",
              "      <td>177.356876</td>\n",
              "      <td>178.073628</td>\n",
              "      <td>21.27</td>\n",
              "    </tr>\n",
              "    <tr>\n",
              "      <th>3</th>\n",
              "      <td>21-02-2013</td>\n",
              "      <td>21.27</td>\n",
              "      <td>63.886142</td>\n",
              "      <td>0.012944</td>\n",
              "      <td>0.134024</td>\n",
              "      <td>21.349256</td>\n",
              "      <td>20.9455</td>\n",
              "      <td>20.541744</td>\n",
              "      <td>3772.99</td>\n",
              "      <td>3793.35</td>\n",
              "      <td>3816.14</td>\n",
              "      <td>3768.97</td>\n",
              "      <td>12610.0</td>\n",
              "      <td>176.385520</td>\n",
              "      <td>177.260561</td>\n",
              "      <td>21.43</td>\n",
              "    </tr>\n",
              "    <tr>\n",
              "      <th>4</th>\n",
              "      <td>22-02-2013</td>\n",
              "      <td>21.43</td>\n",
              "      <td>67.134778</td>\n",
              "      <td>0.030369</td>\n",
              "      <td>0.141616</td>\n",
              "      <td>21.395249</td>\n",
              "      <td>20.9555</td>\n",
              "      <td>20.515751</td>\n",
              "      <td>3822.99</td>\n",
              "      <td>3774.42</td>\n",
              "      <td>3838.31</td>\n",
              "      <td>3774.42</td>\n",
              "      <td>9390.0</td>\n",
              "      <td>177.394307</td>\n",
              "      <td>177.989119</td>\n",
              "      <td>21.66</td>\n",
              "    </tr>\n",
              "  </tbody>\n",
              "</table>\n",
              "</div>\n",
              "    <div class=\"colab-df-buttons\">\n",
              "\n",
              "  <div class=\"colab-df-container\">\n",
              "    <button class=\"colab-df-convert\" onclick=\"convertToInteractive('df-d06cc3e4-f615-4e8e-a457-04d89d1becb1')\"\n",
              "            title=\"Convert this dataframe to an interactive table.\"\n",
              "            style=\"display:none;\">\n",
              "\n",
              "  <svg xmlns=\"http://www.w3.org/2000/svg\" height=\"24px\" viewBox=\"0 -960 960 960\">\n",
              "    <path d=\"M120-120v-720h720v720H120Zm60-500h600v-160H180v160Zm220 220h160v-160H400v160Zm0 220h160v-160H400v160ZM180-400h160v-160H180v160Zm440 0h160v-160H620v160ZM180-180h160v-160H180v160Zm440 0h160v-160H620v160Z\"/>\n",
              "  </svg>\n",
              "    </button>\n",
              "\n",
              "  <style>\n",
              "    .colab-df-container {\n",
              "      display:flex;\n",
              "      gap: 12px;\n",
              "    }\n",
              "\n",
              "    .colab-df-convert {\n",
              "      background-color: #E8F0FE;\n",
              "      border: none;\n",
              "      border-radius: 50%;\n",
              "      cursor: pointer;\n",
              "      display: none;\n",
              "      fill: #1967D2;\n",
              "      height: 32px;\n",
              "      padding: 0 0 0 0;\n",
              "      width: 32px;\n",
              "    }\n",
              "\n",
              "    .colab-df-convert:hover {\n",
              "      background-color: #E2EBFA;\n",
              "      box-shadow: 0px 1px 2px rgba(60, 64, 67, 0.3), 0px 1px 3px 1px rgba(60, 64, 67, 0.15);\n",
              "      fill: #174EA6;\n",
              "    }\n",
              "\n",
              "    .colab-df-buttons div {\n",
              "      margin-bottom: 4px;\n",
              "    }\n",
              "\n",
              "    [theme=dark] .colab-df-convert {\n",
              "      background-color: #3B4455;\n",
              "      fill: #D2E3FC;\n",
              "    }\n",
              "\n",
              "    [theme=dark] .colab-df-convert:hover {\n",
              "      background-color: #434B5C;\n",
              "      box-shadow: 0px 1px 3px 1px rgba(0, 0, 0, 0.15);\n",
              "      filter: drop-shadow(0px 1px 2px rgba(0, 0, 0, 0.3));\n",
              "      fill: #FFFFFF;\n",
              "    }\n",
              "  </style>\n",
              "\n",
              "    <script>\n",
              "      const buttonEl =\n",
              "        document.querySelector('#df-d06cc3e4-f615-4e8e-a457-04d89d1becb1 button.colab-df-convert');\n",
              "      buttonEl.style.display =\n",
              "        google.colab.kernel.accessAllowed ? 'block' : 'none';\n",
              "\n",
              "      async function convertToInteractive(key) {\n",
              "        const element = document.querySelector('#df-d06cc3e4-f615-4e8e-a457-04d89d1becb1');\n",
              "        const dataTable =\n",
              "          await google.colab.kernel.invokeFunction('convertToInteractive',\n",
              "                                                    [key], {});\n",
              "        if (!dataTable) return;\n",
              "\n",
              "        const docLinkHtml = 'Like what you see? Visit the ' +\n",
              "          '<a target=\"_blank\" href=https://colab.research.google.com/notebooks/data_table.ipynb>data table notebook</a>'\n",
              "          + ' to learn more about interactive tables.';\n",
              "        element.innerHTML = '';\n",
              "        dataTable['output_type'] = 'display_data';\n",
              "        await google.colab.output.renderOutput(dataTable, element);\n",
              "        const docLink = document.createElement('div');\n",
              "        docLink.innerHTML = docLinkHtml;\n",
              "        element.appendChild(docLink);\n",
              "      }\n",
              "    </script>\n",
              "  </div>\n",
              "\n",
              "\n",
              "<div id=\"df-853bdde9-6dbd-437f-9df4-5e390170a6ac\">\n",
              "  <button class=\"colab-df-quickchart\" onclick=\"quickchart('df-853bdde9-6dbd-437f-9df4-5e390170a6ac')\"\n",
              "            title=\"Suggest charts\"\n",
              "            style=\"display:none;\">\n",
              "\n",
              "<svg xmlns=\"http://www.w3.org/2000/svg\" height=\"24px\"viewBox=\"0 0 24 24\"\n",
              "     width=\"24px\">\n",
              "    <g>\n",
              "        <path d=\"M19 3H5c-1.1 0-2 .9-2 2v14c0 1.1.9 2 2 2h14c1.1 0 2-.9 2-2V5c0-1.1-.9-2-2-2zM9 17H7v-7h2v7zm4 0h-2V7h2v10zm4 0h-2v-4h2v4z\"/>\n",
              "    </g>\n",
              "</svg>\n",
              "  </button>\n",
              "\n",
              "<style>\n",
              "  .colab-df-quickchart {\n",
              "      --bg-color: #E8F0FE;\n",
              "      --fill-color: #1967D2;\n",
              "      --hover-bg-color: #E2EBFA;\n",
              "      --hover-fill-color: #174EA6;\n",
              "      --disabled-fill-color: #AAA;\n",
              "      --disabled-bg-color: #DDD;\n",
              "  }\n",
              "\n",
              "  [theme=dark] .colab-df-quickchart {\n",
              "      --bg-color: #3B4455;\n",
              "      --fill-color: #D2E3FC;\n",
              "      --hover-bg-color: #434B5C;\n",
              "      --hover-fill-color: #FFFFFF;\n",
              "      --disabled-bg-color: #3B4455;\n",
              "      --disabled-fill-color: #666;\n",
              "  }\n",
              "\n",
              "  .colab-df-quickchart {\n",
              "    background-color: var(--bg-color);\n",
              "    border: none;\n",
              "    border-radius: 50%;\n",
              "    cursor: pointer;\n",
              "    display: none;\n",
              "    fill: var(--fill-color);\n",
              "    height: 32px;\n",
              "    padding: 0;\n",
              "    width: 32px;\n",
              "  }\n",
              "\n",
              "  .colab-df-quickchart:hover {\n",
              "    background-color: var(--hover-bg-color);\n",
              "    box-shadow: 0 1px 2px rgba(60, 64, 67, 0.3), 0 1px 3px 1px rgba(60, 64, 67, 0.15);\n",
              "    fill: var(--button-hover-fill-color);\n",
              "  }\n",
              "\n",
              "  .colab-df-quickchart-complete:disabled,\n",
              "  .colab-df-quickchart-complete:disabled:hover {\n",
              "    background-color: var(--disabled-bg-color);\n",
              "    fill: var(--disabled-fill-color);\n",
              "    box-shadow: none;\n",
              "  }\n",
              "\n",
              "  .colab-df-spinner {\n",
              "    border: 2px solid var(--fill-color);\n",
              "    border-color: transparent;\n",
              "    border-bottom-color: var(--fill-color);\n",
              "    animation:\n",
              "      spin 1s steps(1) infinite;\n",
              "  }\n",
              "\n",
              "  @keyframes spin {\n",
              "    0% {\n",
              "      border-color: transparent;\n",
              "      border-bottom-color: var(--fill-color);\n",
              "      border-left-color: var(--fill-color);\n",
              "    }\n",
              "    20% {\n",
              "      border-color: transparent;\n",
              "      border-left-color: var(--fill-color);\n",
              "      border-top-color: var(--fill-color);\n",
              "    }\n",
              "    30% {\n",
              "      border-color: transparent;\n",
              "      border-left-color: var(--fill-color);\n",
              "      border-top-color: var(--fill-color);\n",
              "      border-right-color: var(--fill-color);\n",
              "    }\n",
              "    40% {\n",
              "      border-color: transparent;\n",
              "      border-right-color: var(--fill-color);\n",
              "      border-top-color: var(--fill-color);\n",
              "    }\n",
              "    60% {\n",
              "      border-color: transparent;\n",
              "      border-right-color: var(--fill-color);\n",
              "    }\n",
              "    80% {\n",
              "      border-color: transparent;\n",
              "      border-right-color: var(--fill-color);\n",
              "      border-bottom-color: var(--fill-color);\n",
              "    }\n",
              "    90% {\n",
              "      border-color: transparent;\n",
              "      border-bottom-color: var(--fill-color);\n",
              "    }\n",
              "  }\n",
              "</style>\n",
              "\n",
              "  <script>\n",
              "    async function quickchart(key) {\n",
              "      const quickchartButtonEl =\n",
              "        document.querySelector('#' + key + ' button');\n",
              "      quickchartButtonEl.disabled = true;  // To prevent multiple clicks.\n",
              "      quickchartButtonEl.classList.add('colab-df-spinner');\n",
              "      try {\n",
              "        const charts = await google.colab.kernel.invokeFunction(\n",
              "            'suggestCharts', [key], {});\n",
              "      } catch (error) {\n",
              "        console.error('Error during call to suggestCharts:', error);\n",
              "      }\n",
              "      quickchartButtonEl.classList.remove('colab-df-spinner');\n",
              "      quickchartButtonEl.classList.add('colab-df-quickchart-complete');\n",
              "    }\n",
              "    (() => {\n",
              "      let quickchartButtonEl =\n",
              "        document.querySelector('#df-853bdde9-6dbd-437f-9df4-5e390170a6ac button');\n",
              "      quickchartButtonEl.style.display =\n",
              "        google.colab.kernel.accessAllowed ? 'block' : 'none';\n",
              "    })();\n",
              "  </script>\n",
              "</div>\n",
              "\n",
              "    </div>\n",
              "  </div>\n"
            ],
            "application/vnd.google.colaboratory.intrinsic+json": {
              "type": "dataframe",
              "variable_name": "merged_data",
              "summary": "{\n  \"name\": \"merged_data\",\n  \"rows\": 2685,\n  \"fields\": [\n    {\n      \"column\": \"date\",\n      \"properties\": {\n        \"dtype\": \"object\",\n        \"num_unique_values\": 2685,\n        \"samples\": [\n          \"21-10-2015\",\n          \"25-08-2016\",\n          \"12-08-2014\"\n        ],\n        \"semantic_type\": \"\",\n        \"description\": \"\"\n      }\n    },\n    {\n      \"column\": \"nav\",\n      \"properties\": {\n        \"dtype\": \"number\",\n        \"std\": 49.77569615986464,\n        \"min\": 19.15,\n        \"max\": 195.54,\n        \"num_unique_values\": 2096,\n        \"samples\": [\n          19.77,\n          52.84,\n          53.13\n        ],\n        \"semantic_type\": \"\",\n        \"description\": \"\"\n      }\n    },\n    {\n      \"column\": \"RSI\",\n      \"properties\": {\n        \"dtype\": \"number\",\n        \"std\": 13.908261455887404,\n        \"min\": 10.540758826187798,\n        \"max\": 89.06089441542593,\n        \"num_unique_values\": 2667,\n        \"samples\": [\n          50.1492465811797,\n          82.97300687981343,\n          57.31598389824808\n        ],\n        \"semantic_type\": \"\",\n        \"description\": \"\"\n      }\n    },\n    {\n      \"column\": \"MACD\",\n      \"properties\": {\n        \"dtype\": \"number\",\n        \"std\": 0.35983068393025786,\n        \"min\": -2.6393727732028847,\n        \"max\": 1.4808730208263552,\n        \"num_unique_values\": 2685,\n        \"samples\": [\n          -0.018873963246524905,\n          -0.007402672246061226,\n          -0.04359685645524847\n        ],\n        \"semantic_type\": \"\",\n        \"description\": \"\"\n      }\n    },\n    {\n      \"column\": \"MACD_Signal\",\n      \"properties\": {\n        \"dtype\": \"number\",\n        \"std\": 1.3321953966279227,\n        \"min\": -5.2237415054332414,\n        \"max\": 4.5562637236572225,\n        \"num_unique_values\": 2685,\n        \"samples\": [\n          0.13148514102766518,\n          -0.3087884358970758,\n          0.6210226223278883\n        ],\n        \"semantic_type\": \"\",\n        \"description\": \"\"\n      }\n    },\n    {\n      \"column\": \"BB_Upper\",\n      \"properties\": {\n        \"dtype\": \"number\",\n        \"std\": 51.56401338975019,\n        \"min\": 19.984347626018263,\n        \"max\": 196.83692004093277,\n        \"num_unique_values\": 2684,\n        \"samples\": [\n          180.55302828677844,\n          94.53823531021281,\n          63.99267288995609\n        ],\n        \"semantic_type\": \"\",\n        \"description\": \"\"\n      }\n    },\n    {\n      \"column\": \"BB_Middle\",\n      \"properties\": {\n        \"dtype\": \"number\",\n        \"std\": 49.38413314463035,\n        \"min\": 19.5855,\n        \"max\": 187.637,\n        \"num_unique_values\": 2649,\n        \"samples\": [\n          64.626,\n          46.0045,\n          42.956\n        ],\n        \"semantic_type\": \"\",\n        \"description\": \"\"\n      }\n    },\n    {\n      \"column\": \"BB_Lower\",\n      \"properties\": {\n        \"dtype\": \"number\",\n        \"std\": 47.26263683160269,\n        \"min\": 18.470990169758604,\n        \"max\": 181.17845740562308,\n        \"num_unique_values\": 2684,\n        \"samples\": [\n          170.51297171322153,\n          87.0117646897872,\n          61.158327110043906\n        ],\n        \"semantic_type\": \"\",\n        \"description\": \"\"\n      }\n    },\n    {\n      \"column\": \"Price\",\n      \"properties\": {\n        \"dtype\": \"number\",\n        \"std\": 3640.217170757097,\n        \"min\": 3413.32,\n        \"max\": 16960.26,\n        \"num_unique_values\": 2680,\n        \"samples\": [\n          5470.33,\n          7784.35,\n          11804.49\n        ],\n        \"semantic_type\": \"\",\n        \"description\": \"\"\n      }\n    },\n    {\n      \"column\": \"Open\",\n      \"properties\": {\n        \"dtype\": \"number\",\n        \"std\": 3641.0581171869912,\n        \"min\": 3416.22,\n        \"max\": 16971.88,\n        \"num_unique_values\": 2678,\n        \"samples\": [\n          5910.02,\n          16259.49,\n          5750.95\n        ],\n        \"semantic_type\": \"\",\n        \"description\": \"\"\n      }\n    },\n    {\n      \"column\": \"High\",\n      \"properties\": {\n        \"dtype\": \"number\",\n        \"std\": 3665.4126566563423,\n        \"min\": 3450.5,\n        \"max\": 17054.48,\n        \"num_unique_values\": 2675,\n        \"samples\": [\n          6049.87,\n          13482.51,\n          5715.23\n        ],\n        \"semantic_type\": \"\",\n        \"description\": \"\"\n      }\n    },\n    {\n      \"column\": \"Low\",\n      \"properties\": {\n        \"dtype\": \"number\",\n        \"std\": 3612.63730255996,\n        \"min\": 3402.87,\n        \"max\": 16849.05,\n        \"num_unique_values\": 2682,\n        \"samples\": [\n          5116.84,\n          7431.25,\n          7719.35\n        ],\n        \"semantic_type\": \"\",\n        \"description\": \"\"\n      }\n    },\n    {\n      \"column\": \"Vol.\",\n      \"properties\": {\n        \"dtype\": \"number\",\n        \"std\": 54656420.67913075,\n        \"min\": 3510.0,\n        \"max\": 804390000.0,\n        \"num_unique_values\": 2180,\n        \"samples\": [\n          28710.0,\n          13330.0,\n          13600000.0\n        ],\n        \"semantic_type\": \"\",\n        \"description\": \"\"\n      }\n    },\n    {\n      \"column\": \"Fund_Return\",\n      \"properties\": {\n        \"dtype\": \"number\",\n        \"std\": 26.621889341358692,\n        \"min\": 83.96651967989547,\n        \"max\": 188.80777728678746,\n        \"num_unique_values\": 2685,\n        \"samples\": [\n          141.82298850574713,\n          141.61056268509375,\n          152.8119921546652\n        ],\n        \"semantic_type\": \"\",\n        \"description\": \"\"\n      }\n    },\n    {\n      \"column\": \"Alpha\",\n      \"properties\": {\n        \"dtype\": \"number\",\n        \"std\": 26.621442472579833,\n        \"min\": 84.49601696659934,\n        \"max\": 189.29706339807151,\n        \"num_unique_values\": 2685,\n        \"samples\": [\n          142.50691087378834,\n          142.5207790143044,\n          153.5686099920976\n        ],\n        \"semantic_type\": \"\",\n        \"description\": \"\"\n      }\n    },\n    {\n      \"column\": \"nav_shifted\",\n      \"properties\": {\n        \"dtype\": \"number\",\n        \"std\": 49.81787481972381,\n        \"min\": 19.15,\n        \"max\": 196.09,\n        \"num_unique_values\": 2097,\n        \"samples\": [\n          19.84,\n          52.84,\n          53.13\n        ],\n        \"semantic_type\": \"\",\n        \"description\": \"\"\n      }\n    }\n  ]\n}"
            }
          },
          "metadata": {},
          "execution_count": 34
        }
      ]
    },
    {
      "cell_type": "code",
      "execution_count": 35,
      "metadata": {
        "id": "_qfRZKE4sk8Q",
        "colab": {
          "base_uri": "https://localhost:8080/",
          "height": 140
        },
        "outputId": "d1966b2c-b78c-4867-f05a-3b5264ea46df"
      },
      "outputs": [
        {
          "output_type": "execute_result",
          "data": {
            "text/plain": [
              "\"\\n# Convert 'date' column to datetime index\\nmerged_data['date'] = pd.to_datetime(merged_data['date'],format = 'mixed')\\nmerged_data.set_index('date', inplace=True)\\n\\n# Separate features (X) and target variable (y)\\nX = merged_data.drop(['nav'], axis=1)\\ny = merged_data['nav'].values.reshape(-1, 1)\\n\\n# Split the data into train and test sets (e.g., 80% train, 20% test)\\nX_train, X_test, y_train, y_test = train_test_split(X, y, test_size=0.2, shuffle=False)\\n\\n# Scale the features using MinMaxScaler\\nscaler = StandardScaler()\\nX_train_scaled = scaler.fit_transform(X_train)\\nX_test_scaled = scaler.transform(X_test)\\n\\n# Define a function to reshape data for LSTM input\\ndef reshape_data(X, time_steps):\\n    X_reshaped = []\\n    for i in range(len(X) - time_steps):\\n        X_reshaped.append(X[i:(i + time_steps)])\\n    return np.array(X_reshaped)\\n\\n# Define the number of time steps\\ntime_steps = 14  # You can adjust this value based on the temporal dependencies in your data\\n\\n# Reshape the data for LSTM input\\nX_train_reshaped = reshape_data(X_train_scaled, time_steps)\\nX_test_reshaped = reshape_data(X_test_scaled, time_steps)\\ny_train_reshaped = y_train[time_steps:]\\ny_test_reshaped = y_test[time_steps:]\\n\""
            ],
            "application/vnd.google.colaboratory.intrinsic+json": {
              "type": "string"
            }
          },
          "metadata": {},
          "execution_count": 35
        }
      ],
      "source": [
        "'''\n",
        "# Convert 'date' column to datetime index\n",
        "merged_data['date'] = pd.to_datetime(merged_data['date'],format = 'mixed')\n",
        "merged_data.set_index('date', inplace=True)\n",
        "\n",
        "# Separate features (X) and target variable (y)\n",
        "X = merged_data.drop(['nav'], axis=1)\n",
        "y = merged_data['nav'].values.reshape(-1, 1)\n",
        "\n",
        "# Split the data into train and test sets (e.g., 80% train, 20% test)\n",
        "X_train, X_test, y_train, y_test = train_test_split(X, y, test_size=0.2, shuffle=False)\n",
        "\n",
        "# Scale the features using MinMaxScaler\n",
        "scaler = StandardScaler()\n",
        "X_train_scaled = scaler.fit_transform(X_train)\n",
        "X_test_scaled = scaler.transform(X_test)\n",
        "\n",
        "# Define a function to reshape data for LSTM input\n",
        "def reshape_data(X, time_steps):\n",
        "    X_reshaped = []\n",
        "    for i in range(len(X) - time_steps):\n",
        "        X_reshaped.append(X[i:(i + time_steps)])\n",
        "    return np.array(X_reshaped)\n",
        "\n",
        "# Define the number of time steps\n",
        "time_steps = 14  # You can adjust this value based on the temporal dependencies in your data\n",
        "\n",
        "# Reshape the data for LSTM input\n",
        "X_train_reshaped = reshape_data(X_train_scaled, time_steps)\n",
        "X_test_reshaped = reshape_data(X_test_scaled, time_steps)\n",
        "y_train_reshaped = y_train[time_steps:]\n",
        "y_test_reshaped = y_test[time_steps:]\n",
        "'''"
      ]
    },
    {
      "cell_type": "code",
      "execution_count": 36,
      "metadata": {
        "colab": {
          "base_uri": "https://localhost:8080/",
          "height": 105
        },
        "id": "eqBasASuxv1G",
        "outputId": "182a0c14-4b26-4cdd-ddc6-d6d4a6373532"
      },
      "outputs": [
        {
          "output_type": "execute_result",
          "data": {
            "text/plain": [
              "\"\\n# Define the LSTM model architecture\\n# Define the LSTM model architecture\\nmodel = Sequential([\\n    LSTM(units=128, input_shape=(X_train_reshaped.shape[1], X_train_reshaped.shape[2]), return_sequences=True),\\n    Dropout(0.2),\\n    LSTM(units=64, return_sequences=True),\\n    Dropout(0.2),\\n    LSTM(units=32, return_sequences=False),\\n    Dropout(0.2),\\n    Dense(units=1)\\n])\\n\\n# Compile the model\\nmodel.compile(optimizer='adam', loss='mean_squared_error')\\n\\n# Train the model\\nhistory = model.fit(X_train_reshaped, y_train_reshaped, epochs=50, batch_size=32, validation_split=0.2)\\n\""
            ],
            "application/vnd.google.colaboratory.intrinsic+json": {
              "type": "string"
            }
          },
          "metadata": {},
          "execution_count": 36
        }
      ],
      "source": [
        "'''\n",
        "# Define the LSTM model architecture\n",
        "# Define the LSTM model architecture\n",
        "model = Sequential([\n",
        "    LSTM(units=128, input_shape=(X_train_reshaped.shape[1], X_train_reshaped.shape[2]), return_sequences=True),\n",
        "    Dropout(0.2),\n",
        "    LSTM(units=64, return_sequences=True),\n",
        "    Dropout(0.2),\n",
        "    LSTM(units=32, return_sequences=False),\n",
        "    Dropout(0.2),\n",
        "    Dense(units=1)\n",
        "])\n",
        "\n",
        "# Compile the model\n",
        "model.compile(optimizer='adam', loss='mean_squared_error')\n",
        "\n",
        "# Train the model\n",
        "history = model.fit(X_train_reshaped, y_train_reshaped, epochs=50, batch_size=32, validation_split=0.2)\n",
        "'''"
      ]
    },
    {
      "cell_type": "code",
      "source": [
        "'''\n",
        "# Evaluate the model on the test set\n",
        "y_pred = model.predict(X_test_reshaped)\n",
        "mae = mean_absolute_error(y_test_reshaped, y_pred)\n",
        "rmse = np.sqrt(mean_squared_error(y_test_reshaped, y_pred))\n",
        "print(\"Mean Absolute Error on Test Set:\", mae)\n",
        "print(\"Root Mean Squared Error on Test Set:\", rmse\n",
        "'''"
      ],
      "metadata": {
        "colab": {
          "base_uri": "https://localhost:8080/",
          "height": 70
        },
        "id": "NsQG5j5kNWZK",
        "outputId": "2ab9e4a7-348b-41c4-aa35-aefb9fe58141"
      },
      "execution_count": 37,
      "outputs": [
        {
          "output_type": "execute_result",
          "data": {
            "text/plain": [
              "'\\n# Evaluate the model on the test set\\ny_pred = model.predict(X_test_reshaped)\\nmae = mean_absolute_error(y_test_reshaped, y_pred)\\nrmse = np.sqrt(mean_squared_error(y_test_reshaped, y_pred))\\nprint(\"Mean Absolute Error on Test Set:\", mae)\\nprint(\"Root Mean Squared Error on Test Set:\", rmse\\n'"
            ],
            "application/vnd.google.colaboratory.intrinsic+json": {
              "type": "string"
            }
          },
          "metadata": {},
          "execution_count": 37
        }
      ]
    },
    {
      "cell_type": "code",
      "source": [
        "X = merged_data.drop(['nav_shifted','date'], axis=1)\n",
        "y = merged_data['nav_shifted']"
      ],
      "metadata": {
        "id": "idN447kFHiIz"
      },
      "execution_count": 38,
      "outputs": []
    },
    {
      "cell_type": "code",
      "source": [
        "scaler = MinMaxScaler()\n",
        "X = scaler.fit_transform(X)\n",
        "y = scaler.fit_transform(y.values.reshape(-1, 1))"
      ],
      "metadata": {
        "id": "-AJV1uiAHlDI"
      },
      "execution_count": 39,
      "outputs": []
    },
    {
      "cell_type": "code",
      "source": [
        "train_size = int(len(X) * 0.8)\n",
        "X_train, X_test = X[:train_size], X[train_size:]\n",
        "y_train, y_test = y[:train_size], y[train_size:]"
      ],
      "metadata": {
        "id": "4ggZUUvLHmqw"
      },
      "execution_count": 40,
      "outputs": []
    },
    {
      "cell_type": "code",
      "source": [
        "def reshape_data(X, time_steps):\n",
        "    X_reshaped = []\n",
        "    for i in range(len(X) - time_steps):\n",
        "        X_reshaped.append(X[i:(i + time_steps)])\n",
        "    return np.array(X_reshaped)\n",
        "\n",
        "# Define the number of time steps\n",
        "time_steps = 14  # You can adjust this value based on the temporal dependencies in your data\n",
        "\n",
        "# Reshape the data for LSTM input\n",
        "X_train = reshape_data(X_train, time_steps)\n",
        "X_test = reshape_data(X_test, time_steps)\n",
        "y_train = y_train[time_steps:]\n",
        "y_test = y_test[time_steps:]"
      ],
      "metadata": {
        "id": "njn-gKgYHpZD"
      },
      "execution_count": 41,
      "outputs": []
    },
    {
      "cell_type": "code",
      "source": [
        "model = Sequential()\n",
        "model.add(LSTM(64, input_shape=(time_steps, X_train.shape[2])))\n",
        "model.add(Dense(1))\n",
        "model.compile(optimizer='adam', loss='mean_squared_error')\n",
        "model.fit(X_train, y_train, epochs=50, batch_size=32, validation_split=0.1)"
      ],
      "metadata": {
        "colab": {
          "base_uri": "https://localhost:8080/"
        },
        "id": "EkFwVvXfHs-M",
        "outputId": "38a18e0c-0027-4f07-a26b-469784f27725"
      },
      "execution_count": 42,
      "outputs": [
        {
          "output_type": "stream",
          "name": "stdout",
          "text": [
            "Epoch 1/50\n",
            "60/60 [==============================] - 4s 11ms/step - loss: 5.2125e-04 - val_loss: 0.0029\n",
            "Epoch 2/50\n",
            "60/60 [==============================] - 0s 4ms/step - loss: 5.5067e-05 - val_loss: 8.9411e-04\n",
            "Epoch 3/50\n",
            "60/60 [==============================] - 0s 4ms/step - loss: 3.9709e-05 - val_loss: 7.8554e-04\n",
            "Epoch 4/50\n",
            "60/60 [==============================] - 0s 4ms/step - loss: 4.3770e-05 - val_loss: 4.6038e-04\n",
            "Epoch 5/50\n",
            "60/60 [==============================] - 0s 4ms/step - loss: 3.7490e-05 - val_loss: 4.4766e-04\n",
            "Epoch 6/50\n",
            "60/60 [==============================] - 0s 4ms/step - loss: 3.3234e-05 - val_loss: 6.2522e-04\n",
            "Epoch 7/50\n",
            "60/60 [==============================] - 0s 6ms/step - loss: 4.1218e-05 - val_loss: 4.5511e-04\n",
            "Epoch 8/50\n",
            "60/60 [==============================] - 0s 7ms/step - loss: 3.7637e-05 - val_loss: 4.2215e-04\n",
            "Epoch 9/50\n",
            "60/60 [==============================] - 1s 8ms/step - loss: 3.8632e-05 - val_loss: 6.4005e-04\n",
            "Epoch 10/50\n",
            "60/60 [==============================] - 0s 7ms/step - loss: 3.3011e-05 - val_loss: 6.0857e-04\n",
            "Epoch 11/50\n",
            "60/60 [==============================] - 0s 8ms/step - loss: 3.6524e-05 - val_loss: 7.9106e-04\n",
            "Epoch 12/50\n",
            "60/60 [==============================] - 0s 8ms/step - loss: 3.5236e-05 - val_loss: 4.3271e-04\n",
            "Epoch 13/50\n",
            "60/60 [==============================] - 0s 8ms/step - loss: 3.5330e-05 - val_loss: 4.2660e-04\n",
            "Epoch 14/50\n",
            "60/60 [==============================] - 1s 9ms/step - loss: 4.1121e-05 - val_loss: 0.0012\n",
            "Epoch 15/50\n",
            "60/60 [==============================] - 1s 11ms/step - loss: 4.2760e-05 - val_loss: 3.4163e-04\n",
            "Epoch 16/50\n",
            "60/60 [==============================] - 0s 8ms/step - loss: 5.1672e-05 - val_loss: 4.1518e-04\n",
            "Epoch 17/50\n",
            "60/60 [==============================] - 1s 14ms/step - loss: 4.4116e-05 - val_loss: 3.8585e-04\n",
            "Epoch 18/50\n",
            "60/60 [==============================] - 1s 13ms/step - loss: 3.2786e-05 - val_loss: 8.9153e-04\n",
            "Epoch 19/50\n",
            "60/60 [==============================] - 1s 11ms/step - loss: 3.6376e-05 - val_loss: 3.3491e-04\n",
            "Epoch 20/50\n",
            "60/60 [==============================] - 0s 8ms/step - loss: 3.2367e-05 - val_loss: 5.6735e-04\n",
            "Epoch 21/50\n",
            "60/60 [==============================] - 0s 7ms/step - loss: 3.4934e-05 - val_loss: 4.2497e-04\n",
            "Epoch 22/50\n",
            "60/60 [==============================] - 0s 7ms/step - loss: 3.0620e-05 - val_loss: 6.7604e-04\n",
            "Epoch 23/50\n",
            "60/60 [==============================] - 0s 7ms/step - loss: 3.2255e-05 - val_loss: 2.7594e-04\n",
            "Epoch 24/50\n",
            "60/60 [==============================] - 1s 9ms/step - loss: 3.5935e-05 - val_loss: 4.1966e-04\n",
            "Epoch 25/50\n",
            "60/60 [==============================] - 0s 7ms/step - loss: 3.5657e-05 - val_loss: 4.1159e-04\n",
            "Epoch 26/50\n",
            "60/60 [==============================] - 0s 8ms/step - loss: 4.0090e-05 - val_loss: 3.0925e-04\n",
            "Epoch 27/50\n",
            "60/60 [==============================] - 0s 7ms/step - loss: 3.2611e-05 - val_loss: 3.4958e-04\n",
            "Epoch 28/50\n",
            "60/60 [==============================] - 0s 7ms/step - loss: 3.3472e-05 - val_loss: 3.1403e-04\n",
            "Epoch 29/50\n",
            "60/60 [==============================] - 0s 6ms/step - loss: 4.9015e-05 - val_loss: 9.6120e-04\n",
            "Epoch 30/50\n",
            "60/60 [==============================] - 0s 7ms/step - loss: 4.5812e-05 - val_loss: 3.3140e-04\n",
            "Epoch 31/50\n",
            "60/60 [==============================] - 0s 7ms/step - loss: 3.3419e-05 - val_loss: 2.9924e-04\n",
            "Epoch 32/50\n",
            "60/60 [==============================] - 0s 7ms/step - loss: 3.0793e-05 - val_loss: 2.8770e-04\n",
            "Epoch 33/50\n",
            "60/60 [==============================] - 0s 8ms/step - loss: 3.9462e-05 - val_loss: 2.7098e-04\n",
            "Epoch 34/50\n",
            "60/60 [==============================] - 0s 7ms/step - loss: 3.7986e-05 - val_loss: 2.5419e-04\n",
            "Epoch 35/50\n",
            "60/60 [==============================] - 0s 8ms/step - loss: 3.0628e-05 - val_loss: 3.5125e-04\n",
            "Epoch 36/50\n",
            "60/60 [==============================] - 1s 9ms/step - loss: 3.0050e-05 - val_loss: 2.6630e-04\n",
            "Epoch 37/50\n",
            "60/60 [==============================] - 0s 8ms/step - loss: 3.3421e-05 - val_loss: 2.8629e-04\n",
            "Epoch 38/50\n",
            "60/60 [==============================] - 1s 9ms/step - loss: 3.9408e-05 - val_loss: 3.5950e-04\n",
            "Epoch 39/50\n",
            "60/60 [==============================] - 0s 8ms/step - loss: 2.9740e-05 - val_loss: 5.7944e-04\n",
            "Epoch 40/50\n",
            "60/60 [==============================] - 0s 8ms/step - loss: 3.5706e-05 - val_loss: 2.6170e-04\n",
            "Epoch 41/50\n",
            "60/60 [==============================] - 1s 13ms/step - loss: 2.8846e-05 - val_loss: 3.6314e-04\n",
            "Epoch 42/50\n",
            "60/60 [==============================] - 1s 11ms/step - loss: 3.8953e-05 - val_loss: 3.1147e-04\n",
            "Epoch 43/50\n",
            "60/60 [==============================] - 1s 9ms/step - loss: 3.3148e-05 - val_loss: 2.7312e-04\n",
            "Epoch 44/50\n",
            "60/60 [==============================] - 1s 15ms/step - loss: 3.4687e-05 - val_loss: 2.5200e-04\n",
            "Epoch 45/50\n",
            "60/60 [==============================] - 1s 14ms/step - loss: 3.1128e-05 - val_loss: 4.4168e-04\n",
            "Epoch 46/50\n",
            "60/60 [==============================] - 0s 7ms/step - loss: 2.8819e-05 - val_loss: 2.4489e-04\n",
            "Epoch 47/50\n",
            "60/60 [==============================] - 0s 8ms/step - loss: 2.8217e-05 - val_loss: 2.3153e-04\n",
            "Epoch 48/50\n",
            "60/60 [==============================] - 0s 7ms/step - loss: 3.4589e-05 - val_loss: 3.2411e-04\n",
            "Epoch 49/50\n",
            "60/60 [==============================] - 0s 8ms/step - loss: 2.5681e-05 - val_loss: 2.2300e-04\n",
            "Epoch 50/50\n",
            "60/60 [==============================] - 0s 7ms/step - loss: 2.8169e-05 - val_loss: 2.7782e-04\n"
          ]
        },
        {
          "output_type": "execute_result",
          "data": {
            "text/plain": [
              "<keras.src.callbacks.History at 0x7c8f11efacb0>"
            ]
          },
          "metadata": {},
          "execution_count": 42
        }
      ]
    },
    {
      "cell_type": "code",
      "source": [
        "y_pred = model.predict(X_test)"
      ],
      "metadata": {
        "colab": {
          "base_uri": "https://localhost:8080/"
        },
        "id": "os6UQ0rJHwM2",
        "outputId": "6bf898df-e73a-4d8f-aadb-775cf27cb4a2"
      },
      "execution_count": 43,
      "outputs": [
        {
          "output_type": "stream",
          "name": "stdout",
          "text": [
            "17/17 [==============================] - 1s 7ms/step\n"
          ]
        }
      ]
    },
    {
      "cell_type": "code",
      "source": [
        "y_pred_scaled = scaler.inverse_transform(y_pred)\n",
        "y_test_scaled = scaler.inverse_transform(y_test)"
      ],
      "metadata": {
        "id": "NaK8ica2HztA"
      },
      "execution_count": 44,
      "outputs": []
    },
    {
      "cell_type": "code",
      "execution_count": 47,
      "metadata": {
        "colab": {
          "base_uri": "https://localhost:8080/",
          "height": 564
        },
        "id": "GzkzXRc1EMsM",
        "outputId": "8b962deb-41f8-4afc-e955-390e0488a449"
      },
      "outputs": [
        {
          "output_type": "display_data",
          "data": {
            "text/plain": [
              "<Figure size 1000x600 with 1 Axes>"
            ],
            "image/png": "[encoded data removed]"
          },
          "metadata": {}
        }
      ],
      "source": [
        "import matplotlib.pyplot as plt\n",
        "\n",
        "# Assuming 'y_test' contains the actual target values and 'y_pred' contains the predicted values\n",
        "plt.figure(figsize=(10, 6))\n",
        "plt.plot(y_test_scaled, label='Actual', color='blue')\n",
        "plt.plot(y_pred_scaled, label='Predicted', color='red')\n",
        "plt.title('Actual vs Predicted Values')\n",
        "plt.xlabel('Data Points')\n",
        "plt.ylabel('NAV')\n",
        "plt.legend()\n",
        "plt.grid(True)\n",
        "plt.show()\n"
      ]
    },
    {
      "cell_type": "code",
      "source": [
        "\n",
        "mae = mean_absolute_error(y_test, y_pred)\n",
        "rmse = np.sqrt(mean_squared_error(y_test, y_pred))\n",
        "print(\"Mean Absolute Error on Test Set:\", mae)\n",
        "print(\"Root Mean Squared Error on Test Set:\", rmse)"
      ],
      "metadata": {
        "colab": {
          "base_uri": "https://localhost:8080/"
        },
        "id": "vdIZmkpncux4",
        "outputId": "388f6b44-d908-4719-d5d9-c0b0e0c8a80b"
      },
      "execution_count": 46,
      "outputs": [
        {
          "output_type": "stream",
          "name": "stdout",
          "text": [
            "Mean Absolute Error on Test Set: 0.013508030702348298\n",
            "Root Mean Squared Error on Test Set: 0.018196238338824642\n"
          ]
        }
      ]
    },
    {
      "cell_type": "code",
      "source": [],
      "metadata": {
        "id": "O7X4KHUTEXzr"
      },
      "execution_count": null,
      "outputs": []
    }
  ],
  "metadata": {
    "accelerator": "GPU",
    "colab": {
      "gpuType": "T4",
      "provenance": []
    },
    "kernelspec": {
      "display_name": "Python 3",
      "name": "python3"
    },
    "language_info": {
      "codemirror_mode": {
        "name": "ipython",
        "version": 3
      },
      "file_extension": ".py",
      "mimetype": "text/x-python",
      "name": "python",
      "nbconvert_exporter": "python",
      "pygments_lexer": "ipython3",
      "version": "3.11.5"
    }
  },
  "nbformat": 4,
  "nbformat_minor": 0
}