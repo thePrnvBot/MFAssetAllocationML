{
  "cells": [
    {
      "cell_type": "code",
      "execution_count": null,
      "metadata": {
        "id": "ybfUXGCQ98d0"
      },
      "outputs": [],
      "source": [
        "import numpy as np\n",
        "import matplotlib.pyplot as plt\n",
        "import pandas as pd\n",
        "import seaborn as sns\n",
        "import requests\n",
        "from sklearn.model_selection import train_test_split\n",
        "from xgboost import XGBRegressor\n",
        "from sklearn.model_selection import train_test_split\n",
        "from keras.models import Sequential\n",
        "from keras.layers import LSTM, Dense, Dropout\n",
        "from sklearn.preprocessing import StandardScaler\n",
        "from sklearn.metrics import mean_absolute_error, mean_squared_error\n",
        "from sklearn.preprocessing import MinMaxScaler"
      ]
    },
    {
      "cell_type": "code",
      "execution_count": null,
      "metadata": {
        "id": "UYsXkD4t98d1"
      },
      "outputs": [],
      "source": [
        "#import data from csv file\n",
        "df1 = pd.read_csv('S&P BSE Teck Historical Data.csv')"
      ]
    },
    {
      "cell_type": "code",
      "execution_count": null,
      "metadata": {
        "id": "Dh2Mi44A98d2"
      },
      "outputs": [],
      "source": [
        "# API details (replace with actual values)\n",
        "api_url = \"https://api.mfapi.in/mf/120594\"\n",
        "api_params = {\"scheme_code\": 120594}  # Assuming scheme_code is the required parameter\n",
        "\n",
        "# Make the API request\n",
        "response = requests.get(api_url, params=api_params)\n",
        "data = response.json()\n",
        "\n",
        "# Create a DataFrame\n",
        "df = pd.DataFrame(data[\"data\"])  # Extract the \"data\" list from the response\n",
        "\n",
        "# Add calculated column (replace with your calculation logic)\n",
        "#df[\"calculated_column\"] = df[\"nav\"] * 1.1  # Example: increase NAV by 10%\n",
        "\n",
        "# Save to CSV\n",
        "#df.to_csv(\"fund_data.csv\", index=False)\n"
      ]
    },
    {
      "cell_type": "code",
      "execution_count": null,
      "metadata": {
        "id": "WUkW-ERJ98d2"
      },
      "outputs": [],
      "source": [
        "# Rename the column first\n",
        "df1.rename(columns={\"Date\": \"date\"}, inplace=True)\n",
        "\n",
        "# Now convert the date format\n",
        "df1[\"date\"] = pd.to_datetime(df1[\"date\"], format='%m/%d/%Y').dt.strftime(\"%d-%m-%Y\")"
      ]
    },
    {
      "cell_type": "code",
      "execution_count": null,
      "metadata": {
        "colab": {
          "base_uri": "https://localhost:8080/"
        },
        "id": "fR7Umztu98d2",
        "outputId": "c79fbb16-ab8c-450b-ee64-6d8967ab6491"
      },
      "outputs": [
        {
          "output_type": "stream",
          "name": "stdout",
          "text": [
            "         date      Price       Open       High        Low    Vol. Change %\n",
            "0  20-01-2024  16,616.35  16,840.91  16,848.41  16,604.55     NaN   -0.87%\n",
            "1  19-01-2024  16,762.62  16,673.91  16,779.41  16,673.79  59.58K    1.29%\n",
            "2  18-01-2024  16,548.78  16,517.33  16,574.08  16,344.10  50.58K   -0.19%\n",
            "3  17-01-2024  16,580.51  16,424.69  16,656.80  16,390.26  75.05K    0.22%\n",
            "4  16-01-2024  16,544.56  16,740.20  16,740.20  16,501.08  73.74K   -1.12%\n"
          ]
        }
      ],
      "source": [
        "print(df1.head())"
      ]
    },
    {
      "cell_type": "code",
      "execution_count": null,
      "metadata": {
        "colab": {
          "base_uri": "https://localhost:8080/"
        },
        "id": "k4OQT-Xw98d3",
        "outputId": "3bca611c-a6d3-49c5-dd55-084561868e5e"
      },
      "outputs": [
        {
          "output_type": "stream",
          "name": "stdout",
          "text": [
            "0\n",
            "0\n",
            "0\n",
            "0\n",
            "2736\n",
            "2756\n"
          ]
        }
      ],
      "source": [
        "print(df1['date'].duplicated().sum())\n",
        "print(df['date'].duplicated().sum())\n",
        "print(df1['date'].isna().sum())\n",
        "print(df['date'].isna().sum())\n",
        "print(len(df1))\n",
        "print(len(df))"
      ]
    },
    {
      "cell_type": "code",
      "execution_count": null,
      "metadata": {
        "colab": {
          "base_uri": "https://localhost:8080/"
        },
        "id": "Ub8_VePF98d4",
        "outputId": "7f0cdcf4-9344-4dd5-9f9c-68024f6230b5"
      },
      "outputs": [
        {
          "output_type": "stream",
          "name": "stdout",
          "text": [
            "2719\n"
          ]
        }
      ],
      "source": [
        "#keep only the dates in df1 that are in df\n",
        "df1 = df1[df1['date'].isin(df['date'])]\n",
        "print(len(df1))"
      ]
    },
    {
      "cell_type": "code",
      "execution_count": null,
      "metadata": {
        "colab": {
          "base_uri": "https://localhost:8080/"
        },
        "id": "ZJXMbgKb98d4",
        "outputId": "39c6951c-6aa7-424a-b823-69e82eae351b"
      },
      "outputs": [
        {
          "output_type": "stream",
          "name": "stdout",
          "text": [
            "         date      Price       Open       High        Low    Vol. Change %\n",
            "1  19-01-2024  16,762.62  16,673.91  16,779.41  16,673.79  59.58K    1.29%\n",
            "2  18-01-2024  16,548.78  16,517.33  16,574.08  16,344.10  50.58K   -0.19%\n",
            "3  17-01-2024  16,580.51  16,424.69  16,656.80  16,390.26  75.05K    0.22%\n",
            "4  16-01-2024  16,544.56  16,740.20  16,740.20  16,501.08  73.74K   -1.12%\n",
            "5  15-01-2024  16,732.45  16,713.90  16,893.24  16,649.81  64.14K    1.79%\n",
            "         date        nav\n",
            "0  15-03-2024  196.85000\n",
            "1  14-03-2024  197.28000\n",
            "2  13-03-2024  192.92000\n",
            "3  12-03-2024  196.04000\n",
            "4  11-03-2024  195.24000\n",
            "            date     Price      Open      High       Low    Vol. Change %\n",
            "2731  08-01-2013  3,514.39  3,516.38  3,522.73  3,495.37   8.36K   -0.14%\n",
            "2732  07-01-2013  3,519.49  3,524.77  3,537.07  3,514.18  10.46K    0.13%\n",
            "2733  04-01-2013  3,514.91  3,502.28  3,517.65  3,498.69   8.84K    0.68%\n",
            "2734  03-01-2013  3,491.06  3,453.27  3,496.87  3,448.30  12.69K    1.32%\n",
            "2735  02-01-2013  3,445.46  3,454.78  3,459.53  3,441.20   7.90K    0.20%\n",
            "            date       nav\n",
            "2751  08-01-2013  19.71000\n",
            "2752  07-01-2013  19.70000\n",
            "2753  04-01-2013  19.74000\n",
            "2754  03-01-2013  19.68000\n",
            "2755  02-01-2013  19.47000\n"
          ]
        }
      ],
      "source": [
        "print(df1.head())\n",
        "print(df.head())\n",
        "print(df1.tail())\n",
        "print(df.tail())"
      ]
    },
    {
      "cell_type": "code",
      "execution_count": null,
      "metadata": {
        "id": "W133n2Uj98d4"
      },
      "outputs": [],
      "source": [
        "df1[\"Change %\"] = df1[\"Change %\"].str.replace(\"%\", \"\")\n",
        "#do it for each column except date\n",
        "df1[\"Price\"] = df1[\"Price\"].str.replace(\",\", \"\")\n",
        "df1[\"Open\"] = df1[\"Open\"].str.replace(\",\", \"\")\n",
        "df1[\"High\"] = df1[\"High\"].str.replace(\",\", \"\")\n",
        "df1[\"Low\"] = df1[\"Low\"].str.replace(\",\", \"\")\n",
        "numeric_columns = df1.columns.difference([\"date\", \"Vol.\"])"
      ]
    },
    {
      "cell_type": "code",
      "execution_count": null,
      "metadata": {
        "id": "FOXWHvTk98d5"
      },
      "outputs": [],
      "source": [
        "#convert Vol. to numeric and replace the values in the same column\n",
        "#if K then multiply by 1000, if M then multiply by 1000000, if B then multiply by 1000000000\n",
        "#create a function to do this\n",
        "def adjust_volume(value):\n",
        "    if pd.isna(value):\n",
        "        return value  # Keep NaN as is\n",
        "\n",
        "    if value.endswith(\"M\"):\n",
        "        return pd.to_numeric(value[:-1]) * 1000000\n",
        "    elif value.endswith(\"B\"):\n",
        "        return pd.to_numeric(value[:-1]) * 1000000000\n",
        "    elif value.endswith(\"K\"):\n",
        "        return pd.to_numeric(value[:-1]) * 1000\n",
        "    else:\n",
        "        return pd.to_numeric(value)  # No modifier, assume original value\n",
        "df1['Vol.'] = df1['Vol.'].apply(adjust_volume)\n",
        "\n"
      ]
    },
    {
      "cell_type": "code",
      "source": [
        "nan_count = df1['Vol.'].isna().sum()\n",
        "print(nan_count)"
      ],
      "metadata": {
        "colab": {
          "base_uri": "https://localhost:8080/"
        },
        "id": "GKOgkUW9J_1d",
        "outputId": "976cc665-5495-48d3-edd5-623aa34202c0"
      },
      "execution_count": null,
      "outputs": [
        {
          "output_type": "stream",
          "name": "stdout",
          "text": [
            "3\n"
          ]
        }
      ]
    },
    {
      "cell_type": "code",
      "source": [
        "nan_indices = df1[df1['Vol.'].isna()].index\n",
        "print(nan_indices)"
      ],
      "metadata": {
        "colab": {
          "base_uri": "https://localhost:8080/"
        },
        "id": "VgTUaCL9LZ8U",
        "outputId": "c16caf15-c98f-41cc-ac34-1e77b5d750b2"
      },
      "execution_count": null,
      "outputs": [
        {
          "output_type": "stream",
          "name": "stdout",
          "text": [
            "Int64Index([108, 206, 356], dtype='int64')\n"
          ]
        }
      ]
    },
    {
      "cell_type": "code",
      "source": [
        "df1['Vol.'] = df1['Vol.'].interpolate()"
      ],
      "metadata": {
        "id": "5OV377SmL7CP"
      },
      "execution_count": null,
      "outputs": []
    },
    {
      "cell_type": "code",
      "source": [
        "nan_count = df1['Vol.'].isna().sum()\n",
        "print(nan_count)"
      ],
      "metadata": {
        "colab": {
          "base_uri": "https://localhost:8080/"
        },
        "id": "4Vd0Dj0AMDvE",
        "outputId": "0897e83e-ad70-4891-8c55-9d11547464b1"
      },
      "execution_count": null,
      "outputs": [
        {
          "output_type": "stream",
          "name": "stdout",
          "text": [
            "0\n"
          ]
        }
      ]
    },
    {
      "cell_type": "code",
      "execution_count": null,
      "metadata": {
        "colab": {
          "base_uri": "https://localhost:8080/"
        },
        "id": "iD6_xdPi98d5",
        "outputId": "65ea38c1-4f63-402c-e16b-df5c43956dd1"
      },
      "outputs": [
        {
          "output_type": "stream",
          "name": "stdout",
          "text": [
            "date         object\n",
            "Price        object\n",
            "Open         object\n",
            "High         object\n",
            "Low          object\n",
            "Vol.        float64\n",
            "Change %     object\n",
            "dtype: object\n"
          ]
        }
      ],
      "source": [
        "print(df1.dtypes)"
      ]
    },
    {
      "cell_type": "code",
      "execution_count": null,
      "metadata": {
        "id": "3cUQugrY98d5"
      },
      "outputs": [],
      "source": [
        "\n",
        "#df1.dtypes\n",
        "df1[numeric_columns] = df1[numeric_columns].apply(pd.to_numeric)\n",
        "#df1[numeric_columns] = df1[numeric_columns].astype(float64)\n",
        "df[\"nav\"] = df[\"nav\"].apply(pd.to_numeric)\n"
      ]
    },
    {
      "cell_type": "code",
      "source": [
        "!pip install ta"
      ],
      "metadata": {
        "colab": {
          "base_uri": "https://localhost:8080/"
        },
        "id": "cpCoO0yLqKQg",
        "outputId": "6f72249e-e59f-4e9c-fa89-d7347241126b"
      },
      "execution_count": null,
      "outputs": [
        {
          "output_type": "stream",
          "name": "stdout",
          "text": [
            "Collecting ta\n",
            "  Downloading ta-0.11.0.tar.gz (25 kB)\n",
            "  Preparing metadata (setup.py) ... \u001b[?25l\u001b[?25hdone\n",
            "Requirement already satisfied: numpy in /usr/local/lib/python3.10/dist-packages (from ta) (1.25.2)\n",
            "Requirement already satisfied: pandas in /usr/local/lib/python3.10/dist-packages (from ta) (1.5.3)\n",
            "Requirement already satisfied: python-dateutil>=2.8.1 in /usr/local/lib/python3.10/dist-packages (from pandas->ta) (2.8.2)\n",
            "Requirement already satisfied: pytz>=2020.1 in /usr/local/lib/python3.10/dist-packages (from pandas->ta) (2023.4)\n",
            "Requirement already satisfied: six>=1.5 in /usr/local/lib/python3.10/dist-packages (from python-dateutil>=2.8.1->pandas->ta) (1.16.0)\n",
            "Building wheels for collected packages: ta\n",
            "  Building wheel for ta (setup.py) ... \u001b[?25l\u001b[?25hdone\n",
            "  Created wheel for ta: filename=ta-0.11.0-py3-none-any.whl size=29411 sha256=8b2cc82a9b3ac7be45b075d5d8de023abfb3b591eb9b776e98e18d1c8076e21f\n",
            "  Stored in directory: /root/.cache/pip/wheels/5f/67/4f/8a9f252836e053e532c6587a3230bc72a4deb16b03a829610b\n",
            "Successfully built ta\n",
            "Installing collected packages: ta\n",
            "Successfully installed ta-0.11.0\n"
          ]
        }
      ]
    },
    {
      "cell_type": "code",
      "source": [
        "import ta\n",
        "\n",
        "# Assuming your df1 index data is in a DataFrame 'df1'\n",
        "df1['RSI'] = ta.momentum.rsi(df1['Price'], window=14)\n",
        "macd = ta.trend.macd_diff(df1['Price'])\n",
        "df1['MACD'] = macd\n",
        "macd_signal = ta.trend.macd_signal(df1['Price'])\n",
        "df1['MACD_Signal'] = macd_signal\n",
        "bandwidth = 2\n",
        "indicator_bb = ta.volatility.BollingerBands(close=df1['Price'], window=20, window_dev=2)\n",
        "df1['BB_Upper'] = indicator_bb.bollinger_hband()\n",
        "df1['BB_Middle'] = indicator_bb.bollinger_mavg()\n",
        "df1['BB_Lower'] = indicator_bb.bollinger_lband()"
      ],
      "metadata": {
        "id": "GzLaw2xUq68N"
      },
      "execution_count": null,
      "outputs": []
    },
    {
      "cell_type": "code",
      "source": [
        "#clean the new columns\n",
        "print(df1['BB_Upper'].isna().sum())\n",
        "print(df1['BB_Lower'].isna().sum())\n",
        "print(df1['BB_Middle'].isna().sum())\n",
        "print(df1['RSI'].isna().sum())\n",
        "print(df1['MACD'].isna().sum())\n",
        "print(df1['MACD_Signal'].isna().sum())"
      ],
      "metadata": {
        "colab": {
          "base_uri": "https://localhost:8080/"
        },
        "id": "wX3OnJyCX88P",
        "outputId": "72bdf67a-741c-4878-c803-7e3ff4de753f"
      },
      "execution_count": null,
      "outputs": [
        {
          "output_type": "stream",
          "name": "stdout",
          "text": [
            "19\n",
            "19\n",
            "19\n",
            "13\n",
            "33\n",
            "33\n"
          ]
        }
      ]
    },
    {
      "cell_type": "code",
      "source": [
        "# drop 33 rows\n",
        "df1 = df1.iloc[33:]\n",
        "print(df1.dtypes)"
      ],
      "metadata": {
        "colab": {
          "base_uri": "https://localhost:8080/"
        },
        "id": "B3lULY-LJjnS",
        "outputId": "012307be-675f-4069-c2f4-803cdf07865b"
      },
      "execution_count": null,
      "outputs": [
        {
          "output_type": "stream",
          "name": "stdout",
          "text": [
            "date            object\n",
            "Price          float64\n",
            "Open           float64\n",
            "High           float64\n",
            "Low            float64\n",
            "Vol.           float64\n",
            "Change %       float64\n",
            "RSI            float64\n",
            "MACD           float64\n",
            "MACD_Signal    float64\n",
            "BB_Upper       float64\n",
            "BB_Middle      float64\n",
            "BB_Lower       float64\n",
            "dtype: object\n"
          ]
        }
      ]
    },
    {
      "cell_type": "code",
      "source": [
        "#check the new columns again\n",
        "print(df1['BB_Upper'].isna().sum())\n",
        "print(df1['BB_Lower'].isna().sum())\n",
        "print(df1['BB_Middle'].isna().sum())\n",
        "print(df1['RSI'].isna().sum())\n",
        "print(df1['MACD'].isna().sum())\n",
        "print(df1['MACD_Signal'].isna().sum())"
      ],
      "metadata": {
        "colab": {
          "base_uri": "https://localhost:8080/"
        },
        "id": "ZDYXmWaGSTuW",
        "outputId": "0f8febcf-1cf5-40b8-9baa-083ead779748"
      },
      "execution_count": null,
      "outputs": [
        {
          "output_type": "stream",
          "name": "stdout",
          "text": [
            "0\n",
            "0\n",
            "0\n",
            "0\n",
            "0\n",
            "0\n"
          ]
        }
      ]
    },
    {
      "cell_type": "code",
      "execution_count": null,
      "metadata": {
        "colab": {
          "base_uri": "https://localhost:8080/"
        },
        "id": "yvfaZrdo98d5",
        "outputId": "cace1fd2-f646-4ede-cdda-3d77e1234b06"
      },
      "outputs": [
        {
          "output_type": "stream",
          "name": "stdout",
          "text": [
            "         date     nav     Price      Open      High       Low        Vol.  \\\n",
            "0  01-12-2023  174.48  14890.24  14921.13  14931.48  14847.56  48670000.0   \n",
            "1  30-11-2023  174.21  14874.19  14857.41  14889.59  14787.85     79170.0   \n",
            "2  29-11-2023  173.90  14848.74  14736.52  14864.09  14736.52     35920.0   \n",
            "3  28-11-2023  171.94  14673.05  14634.62  14696.99  14537.57     38830.0   \n",
            "4  24-11-2023  171.58  14613.33  14703.89  14761.37  14602.71     29600.0   \n",
            "\n",
            "   Change %        RSI       MACD  MACD_Signal      BB_Upper   BB_Middle  \\\n",
            "0      0.11  30.864744 -33.562583  -296.476613  16356.646893  15496.5995   \n",
            "1      0.17  30.578187 -27.852446  -303.439724  16311.566547  15441.1690   \n",
            "2      1.20  30.100959 -21.671128  -308.857506  16262.215143  15386.7000   \n",
            "3      0.41  26.971538 -25.057092  -315.121779  16201.222521  15320.4055   \n",
            "4     -0.89  25.982699 -26.804101  -321.822805  16131.010939  15252.3890   \n",
            "\n",
            "       BB_Lower  \n",
            "0  14636.552107  \n",
            "1  14570.771453  \n",
            "2  14511.184857  \n",
            "3  14439.588479  \n",
            "4  14373.767061  \n",
            "date            object\n",
            "nav            float64\n",
            "Price          float64\n",
            "Open           float64\n",
            "High           float64\n",
            "Low            float64\n",
            "Vol.           float64\n",
            "Change %       float64\n",
            "RSI            float64\n",
            "MACD           float64\n",
            "MACD_Signal    float64\n",
            "BB_Upper       float64\n",
            "BB_Middle      float64\n",
            "BB_Lower       float64\n",
            "dtype: object\n"
          ]
        }
      ],
      "source": [
        "merged_data = df.merge(df1, on=\"date\")\n",
        "print(merged_data.head())\n",
        "print(merged_data.dtypes)"
      ]
    },
    {
      "cell_type": "code",
      "source": [
        "#clean the new columns\n",
        "print(merged_data['BB_Upper'].isna().sum())\n",
        "print(merged_data['BB_Lower'].isna().sum())\n",
        "print(merged_data['BB_Middle'].isna().sum())\n",
        "print(merged_data['RSI'].isna().sum())\n",
        "print(merged_data['MACD'].isna().sum())\n",
        "print(merged_data['MACD_Signal'].isna().sum())"
      ],
      "metadata": {
        "colab": {
          "base_uri": "https://localhost:8080/"
        },
        "id": "fCA04Te1Ui5m",
        "outputId": "41927cb2-7d4c-47f0-f835-e3f6077e9cd6"
      },
      "execution_count": null,
      "outputs": [
        {
          "output_type": "stream",
          "name": "stdout",
          "text": [
            "0\n",
            "0\n",
            "0\n",
            "0\n",
            "0\n",
            "0\n"
          ]
        }
      ]
    },
    {
      "cell_type": "code",
      "execution_count": null,
      "metadata": {
        "colab": {
          "base_uri": "https://localhost:8080/"
        },
        "id": "DXoip8MI98d6",
        "outputId": "7348715c-f62b-413f-ad79-45a92a5528f4"
      },
      "outputs": [
        {
          "output_type": "stream",
          "name": "stdout",
          "text": [
            "         nav     Price  Index_Return  Expected_Fund_Return  Fund_Return  \\\n",
            "0     174.48  14890.24        0.0011             -2.371446    84.340669   \n",
            "1     174.21  14874.19        0.0017             -2.350185    84.380805   \n",
            "2     173.90  14848.74        0.0120             -1.985208    84.386659   \n",
            "3     171.94  14673.05        0.0041             -2.265142    84.338199   \n",
            "4     171.58  14613.33       -0.0089             -2.725792    84.169192   \n",
            "...      ...       ...           ...                   ...          ...   \n",
            "2681   19.71   3514.39       -0.0014             -2.460032   177.304921   \n",
            "2682   19.70   3519.49        0.0013             -2.364359   177.654315   \n",
            "2683   19.74   3514.91        0.0068             -2.169468   177.060284   \n",
            "2684   19.68   3491.06        0.0132             -1.942687   176.391260   \n",
            "2685   19.47   3445.46        0.0020             -2.339555   175.962506   \n",
            "\n",
            "           Alpha  \n",
            "0      86.712115  \n",
            "1      86.730990  \n",
            "2      86.371867  \n",
            "3      86.603341  \n",
            "4      86.894984  \n",
            "...          ...  \n",
            "2681  179.764954  \n",
            "2682  180.018674  \n",
            "2683  179.229752  \n",
            "2684  178.333947  \n",
            "2685  178.302061  \n",
            "\n",
            "[2686 rows x 6 columns]\n"
          ]
        }
      ],
      "source": [
        "risk_free_rate = 0.07\n",
        "\n",
        "# Calculate the returns for the mutual fund and benchmark index\n",
        "merged_data['Fund_Return'] = (merged_data['Price'] - merged_data['nav']) / merged_data['nav']\n",
        "merged_data['Index_Return'] = merged_data['Change %'] / 100  # Assuming change% is in percentage\n",
        "\n",
        "# Calculate the beta value (covariance/variance)\n",
        "covariance_matrix = merged_data[['Fund_Return', 'Index_Return']].cov()\n",
        "beta = covariance_matrix.loc['Fund_Return', 'Index_Return'] / covariance_matrix.loc['Index_Return', 'Index_Return']\n",
        "\n",
        "# Calculate the expected return of the mutual fund using CAPM\n",
        "merged_data['Expected_Fund_Return'] = risk_free_rate + beta * (merged_data['Index_Return'] - risk_free_rate)\n",
        "\n",
        "# Calculate alpha value\n",
        "merged_data['Alpha'] = merged_data['Fund_Return'] - merged_data['Expected_Fund_Return']\n",
        "\n",
        "# Display the dataframe with alpha values\n",
        "print(merged_data[['nav', 'Price', 'Index_Return', 'Expected_Fund_Return', 'Fund_Return', 'Alpha']])"
      ]
    },
    {
      "cell_type": "code",
      "execution_count": null,
      "metadata": {
        "colab": {
          "base_uri": "https://localhost:8080/"
        },
        "id": "TfyXFTdV98d6",
        "outputId": "1d0ae6c6-1a26-4bb5-b18e-637a46f32686"
      },
      "outputs": [
        {
          "output_type": "stream",
          "name": "stdout",
          "text": [
            "date                     object\n",
            "nav                     float64\n",
            "Price                   float64\n",
            "Open                    float64\n",
            "High                    float64\n",
            "Low                     float64\n",
            "Vol.                    float64\n",
            "Change %                float64\n",
            "RSI                     float64\n",
            "MACD                    float64\n",
            "MACD_Signal             float64\n",
            "BB_Upper                float64\n",
            "BB_Middle               float64\n",
            "BB_Lower                float64\n",
            "Fund_Return             float64\n",
            "Index_Return            float64\n",
            "Expected_Fund_Return    float64\n",
            "Alpha                   float64\n",
            "dtype: object\n"
          ]
        }
      ],
      "source": [
        "print(merged_data.dtypes)"
      ]
    },
    {
      "cell_type": "code",
      "source": [
        "from sklearn.feature_selection import mutual_info_regression\n",
        "X = merged_data.drop(['nav','date'], axis=1)\n",
        "y = merged_data['nav']\n",
        "columns_with_nan = X.columns[X.isna().any()].tolist()\n",
        "print(columns_with_nan)"
      ],
      "metadata": {
        "colab": {
          "base_uri": "https://localhost:8080/"
        },
        "id": "P1kl5FxfC3eN",
        "outputId": "bf3ee235-145d-4886-9f01-1a6dba2adf63"
      },
      "execution_count": null,
      "outputs": [
        {
          "output_type": "stream",
          "name": "stdout",
          "text": [
            "[]\n"
          ]
        }
      ]
    },
    {
      "cell_type": "code",
      "source": [
        "mutual_info = mutual_info_regression(X, y)\n",
        "mutual_info = pd.Series(mutual_info, index=X.columns)\n",
        "mutual_info.sort_values(ascending=False, inplace=True)\n",
        "print(mutual_info)"
      ],
      "metadata": {
        "colab": {
          "base_uri": "https://localhost:8080/"
        },
        "id": "oIuVEEJjD9Hl",
        "outputId": "f09a4e26-fb9c-4352-e8db-a9baa8e38ed4"
      },
      "execution_count": null,
      "outputs": [
        {
          "output_type": "stream",
          "name": "stdout",
          "text": [
            "Price                   2.943608\n",
            "Low                     2.805943\n",
            "High                    2.781335\n",
            "Open                    2.629349\n",
            "BB_Middle               2.616825\n",
            "BB_Lower                2.573160\n",
            "BB_Upper                2.553090\n",
            "Fund_Return             2.256741\n",
            "Alpha                   2.228254\n",
            "MACD_Signal             0.839573\n",
            "Vol.                    0.621926\n",
            "MACD                    0.287428\n",
            "RSI                     0.262161\n",
            "Change %                0.000000\n",
            "Index_Return            0.000000\n",
            "Expected_Fund_Return    0.000000\n",
            "dtype: float64\n"
          ]
        }
      ]
    },
    {
      "cell_type": "code",
      "source": [
        "from sklearn.ensemble import RandomForestRegressor\n",
        "rf_model = RandomForestRegressor()\n",
        "rf_model.fit(X, y)\n",
        "feature_importances = pd.Series(rf_model.feature_importances_, index=X.columns)\n",
        "feature_importances_sorted = feature_importances.sort_values(ascending=False)\n",
        "print(\"\\nFeature Importance from Random Forest:\")\n",
        "print(feature_importances_sorted)"
      ],
      "metadata": {
        "colab": {
          "base_uri": "https://localhost:8080/"
        },
        "id": "zKXgMehvWorC",
        "outputId": "b3e1f955-68d8-4125-81c7-5e44ef9b7263"
      },
      "execution_count": null,
      "outputs": [
        {
          "output_type": "stream",
          "name": "stdout",
          "text": [
            "\n",
            "Feature Importance from Random Forest:\n",
            "Low                     0.348331\n",
            "Price                   0.279864\n",
            "BB_Middle               0.183194\n",
            "BB_Upper                0.097792\n",
            "BB_Lower                0.027095\n",
            "Open                    0.023290\n",
            "High                    0.018952\n",
            "Fund_Return             0.014509\n",
            "Alpha                   0.006762\n",
            "MACD_Signal             0.000088\n",
            "RSI                     0.000054\n",
            "MACD                    0.000033\n",
            "Vol.                    0.000021\n",
            "Change %                0.000006\n",
            "Index_Return            0.000004\n",
            "Expected_Fund_Return    0.000004\n",
            "dtype: float64\n"
          ]
        }
      ]
    },
    {
      "cell_type": "code",
      "source": [
        "#dropping the unecessary columns\n",
        "merged_data = merged_data.drop(['Change %','Index_Return','Expected_Fund_Return','MACD','MACD_Signal','Vol.'], axis=1)"
      ],
      "metadata": {
        "id": "q_HSf1xchvWJ"
      },
      "execution_count": null,
      "outputs": []
    },
    {
      "cell_type": "code",
      "source": [
        "print(merged_data.dtypes)\n",
        "print(merged_data.shape)"
      ],
      "metadata": {
        "colab": {
          "base_uri": "https://localhost:8080/"
        },
        "id": "yKzI2KTxjN_O",
        "outputId": "2b27b571-1a6a-42be-b662-1efe4a090aac"
      },
      "execution_count": null,
      "outputs": [
        {
          "output_type": "stream",
          "name": "stdout",
          "text": [
            "date            object\n",
            "nav            float64\n",
            "Price          float64\n",
            "Open           float64\n",
            "High           float64\n",
            "Low            float64\n",
            "RSI            float64\n",
            "BB_Upper       float64\n",
            "BB_Middle      float64\n",
            "BB_Lower       float64\n",
            "Fund_Return    float64\n",
            "Alpha          float64\n",
            "dtype: object\n",
            "(2686, 12)\n"
          ]
        }
      ]
    },
    {
      "cell_type": "code",
      "source": [
        "# Convert 'date' column to datetime index\n",
        "merged_data['date'] = pd.to_datetime(merged_data['date'])\n",
        "merged_data.set_index('date', inplace=True)\n",
        "\n",
        "# Separate features (X) and target variable (y)\n",
        "X = merged_data.drop(['nav'], axis=1)\n",
        "y = merged_data['nav'].values.reshape(-1, 1)\n",
        "\n",
        "# Split the data into train and test sets (e.g., 80% train, 20% test)\n",
        "X_train, X_test, y_train, y_test = train_test_split(X, y, test_size=0.2, shuffle=False)\n",
        "\n",
        "# Scale the features using MinMaxScaler\n",
        "scaler = MinMaxScaler()\n",
        "X_train_scaled = scaler.fit_transform(X_train)\n",
        "X_test_scaled = scaler.transform(X_test)\n",
        "\n",
        "# Define a function to reshape data for LSTM input\n",
        "def reshape_data(X, time_steps):\n",
        "    X_reshaped = []\n",
        "    for i in range(len(X) - time_steps):\n",
        "        X_reshaped.append(X[i:(i + time_steps)])\n",
        "    return np.array(X_reshaped)\n",
        "\n",
        "# Define the number of time steps\n",
        "time_steps = 14  # You can adjust this value based on the temporal dependencies in your data\n",
        "\n",
        "# Reshape the data for LSTM input\n",
        "X_train_reshaped = reshape_data(X_train_scaled, time_steps)\n",
        "X_test_reshaped = reshape_data(X_test_scaled, time_steps)\n",
        "y_train_reshaped = y_train[time_steps:]\n",
        "y_test_reshaped = y_test[time_steps:]\n"
      ],
      "metadata": {
        "colab": {
          "base_uri": "https://localhost:8080/"
        },
        "id": "_qfRZKE4sk8Q",
        "outputId": "c1a8779f-7cb2-4a4d-ebed-31f5c7abcf73"
      },
      "execution_count": null,
      "outputs": [
        {
          "output_type": "stream",
          "name": "stderr",
          "text": [
            "<ipython-input-31-d61bca4b7d19>:2: UserWarning: Parsing dates in DD/MM/YYYY format when dayfirst=False (the default) was specified. This may lead to inconsistently parsed dates! Specify a format to ensure consistent parsing.\n",
            "  merged_data['date'] = pd.to_datetime(merged_data['date'])\n"
          ]
        }
      ]
    },
    {
      "cell_type": "code",
      "source": [
        "# Define the LSTM model architecture\n",
        "model = Sequential([\n",
        "    LSTM(units=64, input_shape=(X_train_reshaped.shape[1], X_train_reshaped.shape[2]), return_sequences=True),\n",
        "    Dropout(0.2),\n",
        "    LSTM(units=64, return_sequences=False),\n",
        "    Dropout(0.2),\n",
        "    Dense(units=1)\n",
        "])\n",
        "\n",
        "# Compile the model\n",
        "model.compile(optimizer='adam', loss='mean_squared_error')\n",
        "\n",
        "# Train the model\n",
        "history = model.fit(X_train_reshaped, y_train_reshaped, epochs=85, batch_size=32, validation_split=0.1)\n",
        "\n",
        "# Evaluate the model on the test set\n",
        "y_pred = model.predict(X_test_reshaped)\n",
        "mae = mean_absolute_error(y_test_reshaped, y_pred)\n",
        "rmse = np.sqrt(mean_squared_error(y_test_reshaped, y_pred))\n",
        "print(\"Mean Absolute Error on Test Set:\", mae)\n",
        "print(\"Root Mean Squared Error on Test Set:\", rmse)\n"
      ],
      "metadata": {
        "colab": {
          "base_uri": "https://localhost:8080/"
        },
        "id": "eqBasASuxv1G",
        "outputId": "567a08b4-7be8-4a06-8aa1-e1a1a0e8a701"
      },
      "execution_count": null,
      "outputs": [
        {
          "output_type": "stream",
          "name": "stdout",
          "text": [
            "Epoch 1/85\n",
            "60/60 [==============================] - 8s 39ms/step - loss: 8888.9150 - val_loss: 785.0771\n",
            "Epoch 2/85\n",
            "60/60 [==============================] - 1s 16ms/step - loss: 7783.0332 - val_loss: 563.8185\n",
            "Epoch 3/85\n",
            "60/60 [==============================] - 1s 17ms/step - loss: 7200.4878 - val_loss: 396.3387\n",
            "Epoch 4/85\n",
            "60/60 [==============================] - 1s 19ms/step - loss: 6694.5225 - val_loss: 264.6162\n",
            "Epoch 5/85\n",
            "60/60 [==============================] - 1s 18ms/step - loss: 6229.2725 - val_loss: 162.9884\n",
            "Epoch 6/85\n",
            "60/60 [==============================] - 1s 16ms/step - loss: 5820.3433 - val_loss: 89.4269\n",
            "Epoch 7/85\n",
            "60/60 [==============================] - 1s 18ms/step - loss: 5448.3281 - val_loss: 38.7490\n",
            "Epoch 8/85\n",
            "60/60 [==============================] - 1s 19ms/step - loss: 5094.0654 - val_loss: 10.7150\n",
            "Epoch 9/85\n",
            "60/60 [==============================] - 1s 21ms/step - loss: 4788.4688 - val_loss: 2.0587\n",
            "Epoch 10/85\n",
            "60/60 [==============================] - 2s 29ms/step - loss: 4477.1865 - val_loss: 11.1067\n",
            "Epoch 11/85\n",
            "60/60 [==============================] - 1s 19ms/step - loss: 4245.7466 - val_loss: 35.8353\n",
            "Epoch 12/85\n",
            "60/60 [==============================] - 1s 19ms/step - loss: 4017.7979 - val_loss: 74.5897\n",
            "Epoch 13/85\n",
            "60/60 [==============================] - 1s 17ms/step - loss: 3803.8831 - val_loss: 125.7991\n",
            "Epoch 14/85\n",
            "60/60 [==============================] - 1s 18ms/step - loss: 3617.8572 - val_loss: 187.4765\n",
            "Epoch 15/85\n",
            "60/60 [==============================] - 1s 18ms/step - loss: 3449.3845 - val_loss: 257.9097\n",
            "Epoch 16/85\n",
            "60/60 [==============================] - 1s 18ms/step - loss: 3299.3350 - val_loss: 337.1794\n",
            "Epoch 17/85\n",
            "60/60 [==============================] - 1s 19ms/step - loss: 3180.9231 - val_loss: 421.1303\n",
            "Epoch 18/85\n",
            "60/60 [==============================] - 1s 19ms/step - loss: 3069.8560 - val_loss: 508.5744\n",
            "Epoch 19/85\n",
            "60/60 [==============================] - 1s 19ms/step - loss: 2948.6807 - val_loss: 604.7827\n",
            "Epoch 20/85\n",
            "60/60 [==============================] - 1s 23ms/step - loss: 2850.3997 - val_loss: 701.0632\n",
            "Epoch 21/85\n",
            "60/60 [==============================] - 2s 27ms/step - loss: 2788.2029 - val_loss: 798.4918\n",
            "Epoch 22/85\n",
            "60/60 [==============================] - 1s 18ms/step - loss: 2709.2124 - val_loss: 895.8531\n",
            "Epoch 23/85\n",
            "60/60 [==============================] - 1s 18ms/step - loss: 2658.2649 - val_loss: 995.4977\n",
            "Epoch 24/85\n",
            "60/60 [==============================] - 1s 16ms/step - loss: 2588.7507 - val_loss: 1088.3593\n",
            "Epoch 25/85\n",
            "60/60 [==============================] - 1s 18ms/step - loss: 2573.4387 - val_loss: 1183.1713\n",
            "Epoch 26/85\n",
            "60/60 [==============================] - 1s 16ms/step - loss: 2524.0017 - val_loss: 1275.9071\n",
            "Epoch 27/85\n",
            "60/60 [==============================] - 1s 15ms/step - loss: 2510.5535 - val_loss: 1364.6136\n",
            "Epoch 28/85\n",
            "60/60 [==============================] - 1s 17ms/step - loss: 2483.0415 - val_loss: 1446.5801\n",
            "Epoch 29/85\n",
            "60/60 [==============================] - 1s 18ms/step - loss: 2473.0784 - val_loss: 1529.2456\n",
            "Epoch 30/85\n",
            "60/60 [==============================] - 1s 19ms/step - loss: 2428.6868 - val_loss: 1599.8894\n",
            "Epoch 31/85\n",
            "60/60 [==============================] - 1s 23ms/step - loss: 2425.5154 - val_loss: 1669.2677\n",
            "Epoch 32/85\n",
            "60/60 [==============================] - 2s 30ms/step - loss: 2252.5735 - val_loss: 17.9279\n",
            "Epoch 33/85\n",
            "60/60 [==============================] - 1s 19ms/step - loss: 1706.7231 - val_loss: 2.1447\n",
            "Epoch 34/85\n",
            "60/60 [==============================] - 1s 18ms/step - loss: 1561.2153 - val_loss: 1.7592\n",
            "Epoch 35/85\n",
            "60/60 [==============================] - 1s 19ms/step - loss: 1412.4368 - val_loss: 1.0187\n",
            "Epoch 36/85\n",
            "60/60 [==============================] - 1s 17ms/step - loss: 1311.6625 - val_loss: 10.7008\n",
            "Epoch 37/85\n",
            "60/60 [==============================] - 1s 16ms/step - loss: 1220.4504 - val_loss: 1.9993\n",
            "Epoch 38/85\n",
            "60/60 [==============================] - 1s 15ms/step - loss: 1135.5432 - val_loss: 0.7819\n",
            "Epoch 39/85\n",
            "60/60 [==============================] - 1s 16ms/step - loss: 1023.2410 - val_loss: 1.1015\n",
            "Epoch 40/85\n",
            "60/60 [==============================] - 1s 20ms/step - loss: 939.2789 - val_loss: 1.8791\n",
            "Epoch 41/85\n",
            "60/60 [==============================] - 1s 19ms/step - loss: 870.0270 - val_loss: 36.0463\n",
            "Epoch 42/85\n",
            "60/60 [==============================] - 2s 27ms/step - loss: 817.5877 - val_loss: 3.0275\n",
            "Epoch 43/85\n",
            "60/60 [==============================] - 1s 24ms/step - loss: 753.1119 - val_loss: 1.8466\n",
            "Epoch 44/85\n",
            "60/60 [==============================] - 1s 17ms/step - loss: 680.0687 - val_loss: 9.0780\n",
            "Epoch 45/85\n",
            "60/60 [==============================] - 1s 19ms/step - loss: 633.9927 - val_loss: 4.5178\n",
            "Epoch 46/85\n",
            "60/60 [==============================] - 1s 18ms/step - loss: 569.3502 - val_loss: 4.9931\n",
            "Epoch 47/85\n",
            "60/60 [==============================] - 1s 16ms/step - loss: 549.0381 - val_loss: 1.3080\n",
            "Epoch 48/85\n",
            "60/60 [==============================] - 1s 15ms/step - loss: 486.1369 - val_loss: 0.6330\n",
            "Epoch 49/85\n",
            "60/60 [==============================] - 1s 15ms/step - loss: 449.0575 - val_loss: 2.2572\n",
            "Epoch 50/85\n",
            "60/60 [==============================] - 1s 16ms/step - loss: 420.0874 - val_loss: 0.5159\n",
            "Epoch 51/85\n",
            "60/60 [==============================] - 1s 16ms/step - loss: 376.3823 - val_loss: 5.3234\n",
            "Epoch 52/85\n",
            "60/60 [==============================] - 1s 19ms/step - loss: 362.8500 - val_loss: 0.4911\n",
            "Epoch 53/85\n",
            "60/60 [==============================] - 1s 22ms/step - loss: 329.9806 - val_loss: 0.9497\n",
            "Epoch 54/85\n",
            "60/60 [==============================] - 2s 28ms/step - loss: 310.9659 - val_loss: 1.0334\n",
            "Epoch 55/85\n",
            "60/60 [==============================] - 1s 22ms/step - loss: 274.5443 - val_loss: 0.6677\n",
            "Epoch 56/85\n",
            "60/60 [==============================] - 1s 17ms/step - loss: 259.5044 - val_loss: 0.6576\n",
            "Epoch 57/85\n",
            "60/60 [==============================] - 1s 16ms/step - loss: 240.8013 - val_loss: 1.8383\n",
            "Epoch 58/85\n",
            "60/60 [==============================] - 1s 17ms/step - loss: 217.7697 - val_loss: 3.5253\n",
            "Epoch 59/85\n",
            "60/60 [==============================] - 1s 18ms/step - loss: 208.0307 - val_loss: 0.4122\n",
            "Epoch 60/85\n",
            "60/60 [==============================] - 1s 19ms/step - loss: 194.4180 - val_loss: 1.2842\n",
            "Epoch 61/85\n",
            "60/60 [==============================] - 1s 20ms/step - loss: 187.6444 - val_loss: 1.3658\n",
            "Epoch 62/85\n",
            "60/60 [==============================] - 1s 17ms/step - loss: 166.3837 - val_loss: 0.8021\n",
            "Epoch 63/85\n",
            "60/60 [==============================] - 1s 16ms/step - loss: 163.2744 - val_loss: 0.3243\n",
            "Epoch 64/85\n",
            "60/60 [==============================] - 1s 18ms/step - loss: 146.2197 - val_loss: 0.3622\n",
            "Epoch 65/85\n",
            "60/60 [==============================] - 1s 24ms/step - loss: 145.1233 - val_loss: 1.9655\n",
            "Epoch 66/85\n",
            "60/60 [==============================] - 1s 21ms/step - loss: 138.9759 - val_loss: 0.8700\n",
            "Epoch 67/85\n",
            "60/60 [==============================] - 1s 17ms/step - loss: 138.2095 - val_loss: 0.4799\n",
            "Epoch 68/85\n",
            "60/60 [==============================] - 1s 19ms/step - loss: 121.2143 - val_loss: 0.3258\n",
            "Epoch 69/85\n",
            "60/60 [==============================] - 1s 17ms/step - loss: 117.7620 - val_loss: 1.9301\n",
            "Epoch 70/85\n",
            "60/60 [==============================] - 1s 16ms/step - loss: 113.6848 - val_loss: 0.4024\n",
            "Epoch 71/85\n",
            "60/60 [==============================] - 1s 17ms/step - loss: 109.8559 - val_loss: 0.3036\n",
            "Epoch 72/85\n",
            "60/60 [==============================] - 1s 17ms/step - loss: 106.9531 - val_loss: 0.4325\n",
            "Epoch 73/85\n",
            "60/60 [==============================] - 1s 17ms/step - loss: 102.2289 - val_loss: 2.4144\n",
            "Epoch 74/85\n",
            "60/60 [==============================] - 1s 17ms/step - loss: 98.5421 - val_loss: 0.6943\n",
            "Epoch 75/85\n",
            "60/60 [==============================] - 1s 16ms/step - loss: 87.0073 - val_loss: 0.8317\n",
            "Epoch 76/85\n",
            "60/60 [==============================] - 1s 21ms/step - loss: 86.2629 - val_loss: 0.4231\n",
            "Epoch 77/85\n",
            "60/60 [==============================] - 1s 25ms/step - loss: 89.8191 - val_loss: 0.3701\n",
            "Epoch 78/85\n",
            "60/60 [==============================] - 1s 18ms/step - loss: 88.8681 - val_loss: 1.7341\n",
            "Epoch 79/85\n",
            "60/60 [==============================] - 1s 19ms/step - loss: 73.6541 - val_loss: 0.7181\n",
            "Epoch 80/85\n",
            "60/60 [==============================] - 1s 19ms/step - loss: 69.4866 - val_loss: 0.3292\n",
            "Epoch 81/85\n",
            "60/60 [==============================] - 1s 19ms/step - loss: 72.8259 - val_loss: 0.3825\n",
            "Epoch 82/85\n",
            "60/60 [==============================] - 1s 19ms/step - loss: 77.1723 - val_loss: 2.1556\n",
            "Epoch 83/85\n",
            "60/60 [==============================] - 1s 17ms/step - loss: 74.2310 - val_loss: 7.5357\n",
            "Epoch 84/85\n",
            "60/60 [==============================] - 1s 16ms/step - loss: 68.4909 - val_loss: 1.1432\n",
            "Epoch 85/85\n",
            "60/60 [==============================] - 1s 16ms/step - loss: 62.2065 - val_loss: 0.3401\n",
            "17/17 [==============================] - 1s 7ms/step\n",
            "Mean Absolute Error on Test Set: 0.8321115238975934\n",
            "Root Mean Squared Error on Test Set: 1.0588991865360187\n"
          ]
        }
      ]
    },
    {
      "cell_type": "code",
      "source": [
        "import matplotlib.pyplot as plt\n",
        "\n",
        "# Assuming 'y_test' contains the actual target values and 'y_pred' contains the predicted values\n",
        "plt.figure(figsize=(10, 6))\n",
        "plt.plot(y_test, label='Actual', color='blue')\n",
        "plt.plot(y_pred, label='Predicted', color='red')\n",
        "plt.title('Actual vs Predicted Values')\n",
        "plt.xlabel('Data Points')\n",
        "plt.ylabel('NAV')\n",
        "plt.legend()\n",
        "plt.grid(True)\n",
        "plt.show()\n"
      ],
      "metadata": {
        "colab": {
          "base_uri": "https://localhost:8080/",
          "height": 564
        },
        "id": "GzkzXRc1EMsM",
        "outputId": "39eca0b6-8f57-4bf6-997c-396e35f972c7"
      },
      "execution_count": null,
      "outputs": [
        {
          "output_type": "display_data",
          "data": {
            "text/plain": [
              "<Figure size 1000x600 with 1 Axes>"
            ],
            "image/png": "[encoded data removed]"
          },
          "metadata": {}
        }
      ]
    }
  ],
  "metadata": {
    "kernelspec": {
      "display_name": "Python 3",
      "name": "python3"
    },
    "language_info": {
      "codemirror_mode": {
        "name": "ipython",
        "version": 3
      },
      "file_extension": ".py",
      "mimetype": "text/x-python",
      "name": "python",
      "nbconvert_exporter": "python",
      "pygments_lexer": "ipython3",
      "version": "3.11.5"
    },
    "colab": {
      "provenance": [],
      "gpuType": "T4"
    },
    "accelerator": "GPU"
  },
  "nbformat": 4,
  "nbformat_minor": 0
}