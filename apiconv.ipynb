{
 "cells": [
  {
   "cell_type": "code",
   "execution_count": 162,
   "metadata": {},
   "outputs": [],
   "source": [
    "import numpy as np\n",
    "import matplotlib.pyplot as plt\n",
    "import pandas as pd\n",
    "import seaborn as sns\n",
    "import requests"
   ]
  },
  {
   "cell_type": "code",
   "execution_count": 163,
   "metadata": {},
   "outputs": [],
   "source": [
    "#import data from csv file\n",
    "df1 = pd.read_csv('S&P BSE Teck Historical Data.csv')"
   ]
  },
  {
   "cell_type": "code",
   "execution_count": 164,
   "metadata": {},
   "outputs": [],
   "source": [
    "# API details (replace with actual values)\n",
    "api_url = \"https://api.mfapi.in/mf/120594\"  # Replace with the actual API endpoint\n",
    "api_params = {\"scheme_code\": 120594}  # Assuming scheme_code is the required parameter\n",
    "\n",
    "# Make the API request\n",
    "response = requests.get(api_url, params=api_params)\n",
    "data = response.json()\n",
    "\n",
    "# Create a DataFrame\n",
    "df = pd.DataFrame(data[\"data\"])  # Extract the \"data\" list from the response\n",
    "\n",
    "# Add calculated column (replace with your calculation logic)\n",
    "#df[\"calculated_column\"] = df[\"nav\"] * 1.1  # Example: increase NAV by 10%\n",
    "\n",
    "# Save to CSV\n",
    "df.to_csv(\"fund_data.csv\", index=False)\n"
   ]
  },
  {
   "cell_type": "code",
   "execution_count": 165,
   "metadata": {},
   "outputs": [],
   "source": [
    "# Rename the column first\n",
    "df1.rename(columns={\"Date\": \"date\"}, inplace=True)\n",
    "\n",
    "# Now convert the date format\n",
    "df1[\"date\"] = pd.to_datetime(df1[\"date\"], format='%m/%d/%Y').dt.strftime(\"%d-%m-%Y\")"
   ]
  },
  {
   "cell_type": "code",
   "execution_count": 166,
   "metadata": {},
   "outputs": [
    {
     "name": "stdout",
     "output_type": "stream",
     "text": [
      "         date      Price       Open       High        Low    Vol. Change %\n",
      "0  20-01-2024  16,616.35  16,840.91  16,848.41  16,604.55     NaN   -0.87%\n",
      "1  19-01-2024  16,762.62  16,673.91  16,779.41  16,673.79  59.58K    1.29%\n",
      "2  18-01-2024  16,548.78  16,517.33  16,574.08  16,344.10  50.58K   -0.19%\n",
      "3  17-01-2024  16,580.51  16,424.69  16,656.80  16,390.26  75.05K    0.22%\n",
      "4  16-01-2024  16,544.56  16,740.20  16,740.20  16,501.08  73.74K   -1.12%\n"
     ]
    }
   ],
   "source": [
    "print(df1.head())"
   ]
  },
  {
   "cell_type": "code",
   "execution_count": 167,
   "metadata": {},
   "outputs": [
    {
     "name": "stdout",
     "output_type": "stream",
     "text": [
      "0\n",
      "0\n",
      "0\n",
      "0\n",
      "2736\n",
      "2719\n"
     ]
    }
   ],
   "source": [
    "print(df1['date'].duplicated().sum())\n",
    "print(df['date'].duplicated().sum())\n",
    "print(df1['date'].isna().sum())\n",
    "print(df['date'].isna().sum())\n",
    "print(len(df1))\n",
    "print(len(df))"
   ]
  },
  {
   "cell_type": "code",
   "execution_count": 168,
   "metadata": {},
   "outputs": [
    {
     "name": "stdout",
     "output_type": "stream",
     "text": [
      "2719\n"
     ]
    }
   ],
   "source": [
    "#keep only the dates in df1 that are in df\n",
    "df1 = df1[df1['date'].isin(df['date'])]\n",
    "print(len(df1))"
   ]
  },
  {
   "cell_type": "code",
   "execution_count": 169,
   "metadata": {},
   "outputs": [
    {
     "name": "stdout",
     "output_type": "stream",
     "text": [
      "         date      Price       Open       High        Low    Vol. Change %\n",
      "1  19-01-2024  16,762.62  16,673.91  16,779.41  16,673.79  59.58K    1.29%\n",
      "2  18-01-2024  16,548.78  16,517.33  16,574.08  16,344.10  50.58K   -0.19%\n",
      "3  17-01-2024  16,580.51  16,424.69  16,656.80  16,390.26  75.05K    0.22%\n",
      "4  16-01-2024  16,544.56  16,740.20  16,740.20  16,501.08  73.74K   -1.12%\n",
      "5  15-01-2024  16,732.45  16,713.90  16,893.24  16,649.81  64.14K    1.79%\n",
      "         date        nav\n",
      "0  19-01-2024  196.09000\n",
      "1  18-01-2024  193.29000\n",
      "2  17-01-2024  194.08000\n",
      "3  16-01-2024  193.88000\n",
      "4  15-01-2024  195.54000\n",
      "            date     Price      Open      High       Low    Vol. Change %\n",
      "2731  08-01-2013  3,514.39  3,516.38  3,522.73  3,495.37   8.36K   -0.14%\n",
      "2732  07-01-2013  3,519.49  3,524.77  3,537.07  3,514.18  10.46K    0.13%\n",
      "2733  04-01-2013  3,514.91  3,502.28  3,517.65  3,498.69   8.84K    0.68%\n",
      "2734  03-01-2013  3,491.06  3,453.27  3,496.87  3,448.30  12.69K    1.32%\n",
      "2735  02-01-2013  3,445.46  3,454.78  3,459.53  3,441.20   7.90K    0.20%\n",
      "            date       nav\n",
      "2714  08-01-2013  19.71000\n",
      "2715  07-01-2013  19.70000\n",
      "2716  04-01-2013  19.74000\n",
      "2717  03-01-2013  19.68000\n",
      "2718  02-01-2013  19.47000\n"
     ]
    }
   ],
   "source": [
    "print(df1.head())\n",
    "print(df.head())\n",
    "print(df1.tail())\n",
    "print(df.tail())"
   ]
  },
  {
   "cell_type": "code",
   "execution_count": 170,
   "metadata": {},
   "outputs": [],
   "source": [
    "df1[\"Change %\"] = df1[\"Change %\"].str.replace(\"%\", \"\")\n",
    "#do it for each column except date\n",
    "df1[\"Price\"] = df1[\"Price\"].str.replace(\",\", \"\")\n",
    "df1[\"Open\"] = df1[\"Open\"].str.replace(\",\", \"\")\n",
    "df1[\"High\"] = df1[\"High\"].str.replace(\",\", \"\")\n",
    "df1[\"Low\"] = df1[\"Low\"].str.replace(\",\", \"\")\n",
    "numeric_columns = df1.columns.difference([\"date\", \"Vol.\"])"
   ]
  },
  {
   "cell_type": "code",
   "execution_count": 171,
   "metadata": {},
   "outputs": [],
   "source": [
    "#convert Vol. to numeric and replace the values in the same column\n",
    "#if K then multiply by 1000, if M then multiply by 1000000, if B then multiply by 1000000000\n",
    "#create a function to do this\n",
    "def adjust_volume(value):\n",
    "    if pd.isna(value):\n",
    "        return value  # Keep NaN as is\n",
    "\n",
    "    if value.endswith(\"M\"):\n",
    "        return pd.to_numeric(value[:-1]) * 1000000\n",
    "    elif value.endswith(\"B\"):\n",
    "        return pd.to_numeric(value[:-1]) * 1000000000\n",
    "    elif value.endswith(\"K\"):\n",
    "        return pd.to_numeric(value[:-1]) * 1000\n",
    "    else:\n",
    "        return pd.to_numeric(value)  # No modifier, assume original value\n",
    "df1['Vol.'] = df1['Vol.'].apply(adjust_volume)\n",
    "\n"
   ]
  },
  {
   "cell_type": "code",
   "execution_count": 172,
   "metadata": {},
   "outputs": [
    {
     "name": "stdout",
     "output_type": "stream",
     "text": [
      "date         object\n",
      "Price        object\n",
      "Open         object\n",
      "High         object\n",
      "Low          object\n",
      "Vol.        float64\n",
      "Change %     object\n",
      "dtype: object\n"
     ]
    }
   ],
   "source": [
    "print(df1.dtypes)"
   ]
  },
  {
   "cell_type": "code",
   "execution_count": 173,
   "metadata": {},
   "outputs": [],
   "source": [
    "\n",
    "#df1.dtypes\n",
    "df1[numeric_columns] = df1[numeric_columns].apply(pd.to_numeric)\n",
    "#df1[numeric_columns] = df1[numeric_columns].astype(float64)\n",
    "df[\"nav\"] = df[\"nav\"].apply(pd.to_numeric)\n"
   ]
  },
  {
   "cell_type": "code",
   "execution_count": 174,
   "metadata": {},
   "outputs": [
    {
     "name": "stdout",
     "output_type": "stream",
     "text": [
      "         date     nav     Price      Open      High       Low     Vol.  \\\n",
      "0  19-01-2024  196.09  16762.62  16673.91  16779.41  16673.79  59580.0   \n",
      "1  18-01-2024  193.29  16548.78  16517.33  16574.08  16344.10  50580.0   \n",
      "2  17-01-2024  194.08  16580.51  16424.69  16656.80  16390.26  75050.0   \n",
      "3  16-01-2024  193.88  16544.56  16740.20  16740.20  16501.08  73740.0   \n",
      "4  15-01-2024  195.54  16732.45  16713.90  16893.24  16649.81  64140.0   \n",
      "\n",
      "   Change %  \n",
      "0      1.29  \n",
      "1     -0.19  \n",
      "2      0.22  \n",
      "3     -1.12  \n",
      "4      1.79  \n",
      "date         object\n",
      "nav         float64\n",
      "Price       float64\n",
      "Open        float64\n",
      "High        float64\n",
      "Low         float64\n",
      "Vol.        float64\n",
      "Change %    float64\n",
      "dtype: object\n"
     ]
    }
   ],
   "source": [
    "merged_data = df.merge(df1, on=\"date\")\n",
    "print(merged_data.head())\n",
    "print(merged_data.dtypes)"
   ]
  },
  {
   "cell_type": "code",
   "execution_count": 175,
   "metadata": {},
   "outputs": [],
   "source": [
    "merged_data[\"mf_return\"] = (merged_data[\"nav\"] - merged_data[\"nav\"].shift(1)) / merged_data[\"nav\"].shift(1)\n",
    "merged_data[\"index_return\"] = (merged_data[\"Price\"] - merged_data[\"Price\"].shift(1)) / merged_data[\"Price\"].shift(1)"
   ]
  },
  {
   "cell_type": "code",
   "execution_count": 176,
   "metadata": {},
   "outputs": [],
   "source": [
    "# Calculate covariance and mean of excess return and benchmark return\n",
    "cov_er_br = merged_data['mf_return'].cov(merged_data['index_return'])\n",
    "mean_er = merged_data['mf_return'].mean()\n",
    "mean_br = merged_data['index_return'].mean()\n",
    "\n",
    "# Calculate beta (covariance of excess return and benchmark return / variance of benchmark return)\n",
    "beta = cov_er_br / merged_data['index_return'].var()\n",
    "\n",
    "# Calculate alpha (average excess return - beta * average benchmark return)\n",
    "alpha = mean_er - beta * mean_br\n",
    "\n",
    "# Add alpha and beta to the merged dataset\n",
    "merged_data['alpha'] = alpha\n",
    "merged_data['beta'] = beta"
   ]
  },
  {
   "cell_type": "code",
   "execution_count": 180,
   "metadata": {},
   "outputs": [
    {
     "data": {
      "text/html": [
       "<div>\n",
       "<style scoped>\n",
       "    .dataframe tbody tr th:only-of-type {\n",
       "        vertical-align: middle;\n",
       "    }\n",
       "\n",
       "    .dataframe tbody tr th {\n",
       "        vertical-align: top;\n",
       "    }\n",
       "\n",
       "    .dataframe thead th {\n",
       "        text-align: right;\n",
       "    }\n",
       "</style>\n",
       "<table border=\"1\" class=\"dataframe\">\n",
       "  <thead>\n",
       "    <tr style=\"text-align: right;\">\n",
       "      <th></th>\n",
       "      <th>date</th>\n",
       "      <th>nav</th>\n",
       "      <th>Price</th>\n",
       "      <th>Open</th>\n",
       "      <th>High</th>\n",
       "      <th>Low</th>\n",
       "      <th>Vol.</th>\n",
       "      <th>Change %</th>\n",
       "      <th>mf_return</th>\n",
       "      <th>index_return</th>\n",
       "      <th>alpha</th>\n",
       "      <th>beta</th>\n",
       "    </tr>\n",
       "  </thead>\n",
       "  <tbody>\n",
       "    <tr>\n",
       "      <th>0</th>\n",
       "      <td>19-01-2024</td>\n",
       "      <td>196.09</td>\n",
       "      <td>16762.62</td>\n",
       "      <td>16673.91</td>\n",
       "      <td>16779.41</td>\n",
       "      <td>16673.79</td>\n",
       "      <td>59580.0</td>\n",
       "      <td>1.29</td>\n",
       "      <td>NaN</td>\n",
       "      <td>NaN</td>\n",
       "      <td>-0.000332</td>\n",
       "      <td>0.884402</td>\n",
       "    </tr>\n",
       "    <tr>\n",
       "      <th>1</th>\n",
       "      <td>18-01-2024</td>\n",
       "      <td>193.29</td>\n",
       "      <td>16548.78</td>\n",
       "      <td>16517.33</td>\n",
       "      <td>16574.08</td>\n",
       "      <td>16344.10</td>\n",
       "      <td>50580.0</td>\n",
       "      <td>-0.19</td>\n",
       "      <td>-0.014279</td>\n",
       "      <td>-0.012757</td>\n",
       "      <td>-0.000332</td>\n",
       "      <td>0.884402</td>\n",
       "    </tr>\n",
       "    <tr>\n",
       "      <th>2</th>\n",
       "      <td>17-01-2024</td>\n",
       "      <td>194.08</td>\n",
       "      <td>16580.51</td>\n",
       "      <td>16424.69</td>\n",
       "      <td>16656.80</td>\n",
       "      <td>16390.26</td>\n",
       "      <td>75050.0</td>\n",
       "      <td>0.22</td>\n",
       "      <td>0.004087</td>\n",
       "      <td>0.001917</td>\n",
       "      <td>-0.000332</td>\n",
       "      <td>0.884402</td>\n",
       "    </tr>\n",
       "    <tr>\n",
       "      <th>3</th>\n",
       "      <td>16-01-2024</td>\n",
       "      <td>193.88</td>\n",
       "      <td>16544.56</td>\n",
       "      <td>16740.20</td>\n",
       "      <td>16740.20</td>\n",
       "      <td>16501.08</td>\n",
       "      <td>73740.0</td>\n",
       "      <td>-1.12</td>\n",
       "      <td>-0.001031</td>\n",
       "      <td>-0.002168</td>\n",
       "      <td>-0.000332</td>\n",
       "      <td>0.884402</td>\n",
       "    </tr>\n",
       "    <tr>\n",
       "      <th>4</th>\n",
       "      <td>15-01-2024</td>\n",
       "      <td>195.54</td>\n",
       "      <td>16732.45</td>\n",
       "      <td>16713.90</td>\n",
       "      <td>16893.24</td>\n",
       "      <td>16649.81</td>\n",
       "      <td>64140.0</td>\n",
       "      <td>1.79</td>\n",
       "      <td>0.008562</td>\n",
       "      <td>0.011357</td>\n",
       "      <td>-0.000332</td>\n",
       "      <td>0.884402</td>\n",
       "    </tr>\n",
       "  </tbody>\n",
       "</table>\n",
       "</div>"
      ],
      "text/plain": [
       "         date     nav     Price      Open      High       Low     Vol.  \\\n",
       "0  19-01-2024  196.09  16762.62  16673.91  16779.41  16673.79  59580.0   \n",
       "1  18-01-2024  193.29  16548.78  16517.33  16574.08  16344.10  50580.0   \n",
       "2  17-01-2024  194.08  16580.51  16424.69  16656.80  16390.26  75050.0   \n",
       "3  16-01-2024  193.88  16544.56  16740.20  16740.20  16501.08  73740.0   \n",
       "4  15-01-2024  195.54  16732.45  16713.90  16893.24  16649.81  64140.0   \n",
       "\n",
       "   Change %  mf_return  index_return     alpha      beta  \n",
       "0      1.29        NaN           NaN -0.000332  0.884402  \n",
       "1     -0.19  -0.014279     -0.012757 -0.000332  0.884402  \n",
       "2      0.22   0.004087      0.001917 -0.000332  0.884402  \n",
       "3     -1.12  -0.001031     -0.002168 -0.000332  0.884402  \n",
       "4      1.79   0.008562      0.011357 -0.000332  0.884402  "
      ]
     },
     "execution_count": 180,
     "metadata": {},
     "output_type": "execute_result"
    }
   ],
   "source": [
    "merged_data.head()"
   ]
  },
  {
   "cell_type": "code",
   "execution_count": 181,
   "metadata": {},
   "outputs": [],
   "source": [
    "merged_data.to_csv(\"merged_data.csv\", index=False)"
   ]
  }
 ],
 "metadata": {
  "kernelspec": {
   "display_name": "Python 3",
   "language": "python",
   "name": "python3"
  },
  "language_info": {
   "codemirror_mode": {
    "name": "ipython",
    "version": 3
   },
   "file_extension": ".py",
   "mimetype": "text/x-python",
   "name": "python",
   "nbconvert_exporter": "python",
   "pygments_lexer": "ipython3",
   "version": "3.11.5"
  }
 },
 "nbformat": 4,
 "nbformat_minor": 2
}
